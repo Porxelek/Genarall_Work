{
  "nbformat": 4,
  "nbformat_minor": 0,
  "metadata": {
    "colab": {
      "provenance": [],
      "authorship_tag": "ABX9TyODZ2LUYCq11l0JswUlWXd3",
      "include_colab_link": true
    },
    "kernelspec": {
      "name": "python3",
      "display_name": "Python 3"
    },
    "language_info": {
      "name": "python"
    }
  },
  "cells": [
    {
      "cell_type": "markdown",
      "metadata": {
        "id": "view-in-github",
        "colab_type": "text"
      },
      "source": [
        "<a href=\"https://colab.research.google.com/github/Porxelek/Genarall_Work/blob/main/Wep_scraping.ipynb\" target=\"_parent\"><img src=\"https://colab.research.google.com/assets/colab-badge.svg\" alt=\"Open In Colab\"/></a>"
      ]
    },
    {
      "cell_type": "code",
      "source": [
        "import requests\n",
        "from bs4 import BeautifulSoup\n",
        "import time\n",
        "import pandas as pd"
      ],
      "metadata": {
        "id": "-qG-NDu2Sg1H"
      },
      "execution_count": 26,
      "outputs": []
    },
    {
      "cell_type": "code",
      "execution_count": 10,
      "metadata": {
        "id": "7UyS0wt5R8La",
        "colab": {
          "base_uri": "https://localhost:8080/",
          "height": 397
        },
        "outputId": "8c8c72f1-4267-459e-b908-d56c3b6fe5e2"
      },
      "outputs": [
        {
          "output_type": "error",
          "ename": "AttributeError",
          "evalue": "ignored",
          "traceback": [
            "\u001b[0;31m---------------------------------------------------------------------------\u001b[0m",
            "\u001b[0;31mAttributeError\u001b[0m                            Traceback (most recent call last)",
            "\u001b[0;32m<ipython-input-10-b83608c9f696>\u001b[0m in \u001b[0;36m<cell line: 3>\u001b[0;34m()\u001b[0m\n\u001b[1;32m      1\u001b[0m \u001b[0mURL\u001b[0m \u001b[0;34m=\u001b[0m \u001b[0;34m'https://www.draftegitim.com/okul/goce-delcev-universitesi/bolumler/86'\u001b[0m\u001b[0;34m\u001b[0m\u001b[0;34m\u001b[0m\u001b[0m\n\u001b[1;32m      2\u001b[0m \u001b[0mheaders\u001b[0m \u001b[0;34m=\u001b[0m \u001b[0;34m{\u001b[0m\u001b[0;34m\"Mozilla/5.0 (Windows NT 10.0; Win64; x64) AppleWebKit/537.36 (KHTML, like Gecko) Chrome/114.0.0.0 Safari/537.36\"\u001b[0m\u001b[0;34m}\u001b[0m\u001b[0;34m\u001b[0m\u001b[0;34m\u001b[0m\u001b[0m\n\u001b[0;32m----> 3\u001b[0;31m \u001b[0msayfa\u001b[0m \u001b[0;34m=\u001b[0m \u001b[0mrequests\u001b[0m\u001b[0;34m.\u001b[0m\u001b[0mget\u001b[0m\u001b[0;34m(\u001b[0m\u001b[0mURL\u001b[0m\u001b[0;34m,\u001b[0m \u001b[0mheaders\u001b[0m \u001b[0;34m=\u001b[0m \u001b[0mheaders\u001b[0m\u001b[0;34m)\u001b[0m\u001b[0;34m\u001b[0m\u001b[0;34m\u001b[0m\u001b[0m\n\u001b[0m\u001b[1;32m      4\u001b[0m \u001b[0micerik\u001b[0m \u001b[0;34m=\u001b[0m \u001b[0mBeautifulSoup\u001b[0m\u001b[0;34m(\u001b[0m\u001b[0msayfa\u001b[0m\u001b[0;34m.\u001b[0m\u001b[0mcontent\u001b[0m\u001b[0;34m,\u001b[0m\u001b[0;34m'html.parser'\u001b[0m\u001b[0;34m)\u001b[0m\u001b[0;34m\u001b[0m\u001b[0;34m\u001b[0m\u001b[0m\n\u001b[1;32m      5\u001b[0m \u001b[0mprint\u001b[0m\u001b[0;34m(\u001b[0m\u001b[0micerik\u001b[0m\u001b[0;34m)\u001b[0m\u001b[0;34m\u001b[0m\u001b[0;34m\u001b[0m\u001b[0m\n",
            "\u001b[0;32m/usr/local/lib/python3.10/dist-packages/requests/api.py\u001b[0m in \u001b[0;36mget\u001b[0;34m(url, params, **kwargs)\u001b[0m\n\u001b[1;32m     73\u001b[0m     \"\"\"\n\u001b[1;32m     74\u001b[0m \u001b[0;34m\u001b[0m\u001b[0m\n\u001b[0;32m---> 75\u001b[0;31m     \u001b[0;32mreturn\u001b[0m \u001b[0mrequest\u001b[0m\u001b[0;34m(\u001b[0m\u001b[0;34m'get'\u001b[0m\u001b[0;34m,\u001b[0m \u001b[0murl\u001b[0m\u001b[0;34m,\u001b[0m \u001b[0mparams\u001b[0m\u001b[0;34m=\u001b[0m\u001b[0mparams\u001b[0m\u001b[0;34m,\u001b[0m \u001b[0;34m**\u001b[0m\u001b[0mkwargs\u001b[0m\u001b[0;34m)\u001b[0m\u001b[0;34m\u001b[0m\u001b[0;34m\u001b[0m\u001b[0m\n\u001b[0m\u001b[1;32m     76\u001b[0m \u001b[0;34m\u001b[0m\u001b[0m\n\u001b[1;32m     77\u001b[0m \u001b[0;34m\u001b[0m\u001b[0m\n",
            "\u001b[0;32m/usr/local/lib/python3.10/dist-packages/requests/api.py\u001b[0m in \u001b[0;36mrequest\u001b[0;34m(method, url, **kwargs)\u001b[0m\n\u001b[1;32m     59\u001b[0m     \u001b[0;31m# cases, and look like a memory leak in others.\u001b[0m\u001b[0;34m\u001b[0m\u001b[0;34m\u001b[0m\u001b[0m\n\u001b[1;32m     60\u001b[0m     \u001b[0;32mwith\u001b[0m \u001b[0msessions\u001b[0m\u001b[0;34m.\u001b[0m\u001b[0mSession\u001b[0m\u001b[0;34m(\u001b[0m\u001b[0;34m)\u001b[0m \u001b[0;32mas\u001b[0m \u001b[0msession\u001b[0m\u001b[0;34m:\u001b[0m\u001b[0;34m\u001b[0m\u001b[0;34m\u001b[0m\u001b[0m\n\u001b[0;32m---> 61\u001b[0;31m         \u001b[0;32mreturn\u001b[0m \u001b[0msession\u001b[0m\u001b[0;34m.\u001b[0m\u001b[0mrequest\u001b[0m\u001b[0;34m(\u001b[0m\u001b[0mmethod\u001b[0m\u001b[0;34m=\u001b[0m\u001b[0mmethod\u001b[0m\u001b[0;34m,\u001b[0m \u001b[0murl\u001b[0m\u001b[0;34m=\u001b[0m\u001b[0murl\u001b[0m\u001b[0;34m,\u001b[0m \u001b[0;34m**\u001b[0m\u001b[0mkwargs\u001b[0m\u001b[0;34m)\u001b[0m\u001b[0;34m\u001b[0m\u001b[0;34m\u001b[0m\u001b[0m\n\u001b[0m\u001b[1;32m     62\u001b[0m \u001b[0;34m\u001b[0m\u001b[0m\n\u001b[1;32m     63\u001b[0m \u001b[0;34m\u001b[0m\u001b[0m\n",
            "\u001b[0;32m/usr/local/lib/python3.10/dist-packages/requests/sessions.py\u001b[0m in \u001b[0;36mrequest\u001b[0;34m(self, method, url, params, data, headers, cookies, files, auth, timeout, allow_redirects, proxies, hooks, stream, verify, cert, json)\u001b[0m\n\u001b[1;32m    513\u001b[0m             \u001b[0mhooks\u001b[0m\u001b[0;34m=\u001b[0m\u001b[0mhooks\u001b[0m\u001b[0;34m,\u001b[0m\u001b[0;34m\u001b[0m\u001b[0;34m\u001b[0m\u001b[0m\n\u001b[1;32m    514\u001b[0m         )\n\u001b[0;32m--> 515\u001b[0;31m         \u001b[0mprep\u001b[0m \u001b[0;34m=\u001b[0m \u001b[0mself\u001b[0m\u001b[0;34m.\u001b[0m\u001b[0mprepare_request\u001b[0m\u001b[0;34m(\u001b[0m\u001b[0mreq\u001b[0m\u001b[0;34m)\u001b[0m\u001b[0;34m\u001b[0m\u001b[0;34m\u001b[0m\u001b[0m\n\u001b[0m\u001b[1;32m    516\u001b[0m \u001b[0;34m\u001b[0m\u001b[0m\n\u001b[1;32m    517\u001b[0m         \u001b[0mproxies\u001b[0m \u001b[0;34m=\u001b[0m \u001b[0mproxies\u001b[0m \u001b[0;32mor\u001b[0m \u001b[0;34m{\u001b[0m\u001b[0;34m}\u001b[0m\u001b[0;34m\u001b[0m\u001b[0;34m\u001b[0m\u001b[0m\n",
            "\u001b[0;32m/usr/local/lib/python3.10/dist-packages/requests/sessions.py\u001b[0m in \u001b[0;36mprepare_request\u001b[0;34m(self, request)\u001b[0m\n\u001b[1;32m    441\u001b[0m \u001b[0;34m\u001b[0m\u001b[0m\n\u001b[1;32m    442\u001b[0m         \u001b[0mp\u001b[0m \u001b[0;34m=\u001b[0m \u001b[0mPreparedRequest\u001b[0m\u001b[0;34m(\u001b[0m\u001b[0;34m)\u001b[0m\u001b[0;34m\u001b[0m\u001b[0;34m\u001b[0m\u001b[0m\n\u001b[0;32m--> 443\u001b[0;31m         p.prepare(\n\u001b[0m\u001b[1;32m    444\u001b[0m             \u001b[0mmethod\u001b[0m\u001b[0;34m=\u001b[0m\u001b[0mrequest\u001b[0m\u001b[0;34m.\u001b[0m\u001b[0mmethod\u001b[0m\u001b[0;34m.\u001b[0m\u001b[0mupper\u001b[0m\u001b[0;34m(\u001b[0m\u001b[0;34m)\u001b[0m\u001b[0;34m,\u001b[0m\u001b[0;34m\u001b[0m\u001b[0;34m\u001b[0m\u001b[0m\n\u001b[1;32m    445\u001b[0m             \u001b[0murl\u001b[0m\u001b[0;34m=\u001b[0m\u001b[0mrequest\u001b[0m\u001b[0;34m.\u001b[0m\u001b[0murl\u001b[0m\u001b[0;34m,\u001b[0m\u001b[0;34m\u001b[0m\u001b[0;34m\u001b[0m\u001b[0m\n",
            "\u001b[0;32m/usr/local/lib/python3.10/dist-packages/requests/models.py\u001b[0m in \u001b[0;36mprepare\u001b[0;34m(self, method, url, headers, files, data, params, auth, cookies, hooks, json)\u001b[0m\n\u001b[1;32m    317\u001b[0m         \u001b[0mself\u001b[0m\u001b[0;34m.\u001b[0m\u001b[0mprepare_method\u001b[0m\u001b[0;34m(\u001b[0m\u001b[0mmethod\u001b[0m\u001b[0;34m)\u001b[0m\u001b[0;34m\u001b[0m\u001b[0;34m\u001b[0m\u001b[0m\n\u001b[1;32m    318\u001b[0m         \u001b[0mself\u001b[0m\u001b[0;34m.\u001b[0m\u001b[0mprepare_url\u001b[0m\u001b[0;34m(\u001b[0m\u001b[0murl\u001b[0m\u001b[0;34m,\u001b[0m \u001b[0mparams\u001b[0m\u001b[0;34m)\u001b[0m\u001b[0;34m\u001b[0m\u001b[0;34m\u001b[0m\u001b[0m\n\u001b[0;32m--> 319\u001b[0;31m         \u001b[0mself\u001b[0m\u001b[0;34m.\u001b[0m\u001b[0mprepare_headers\u001b[0m\u001b[0;34m(\u001b[0m\u001b[0mheaders\u001b[0m\u001b[0;34m)\u001b[0m\u001b[0;34m\u001b[0m\u001b[0;34m\u001b[0m\u001b[0m\n\u001b[0m\u001b[1;32m    320\u001b[0m         \u001b[0mself\u001b[0m\u001b[0;34m.\u001b[0m\u001b[0mprepare_cookies\u001b[0m\u001b[0;34m(\u001b[0m\u001b[0mcookies\u001b[0m\u001b[0;34m)\u001b[0m\u001b[0;34m\u001b[0m\u001b[0;34m\u001b[0m\u001b[0m\n\u001b[1;32m    321\u001b[0m         \u001b[0mself\u001b[0m\u001b[0;34m.\u001b[0m\u001b[0mprepare_body\u001b[0m\u001b[0;34m(\u001b[0m\u001b[0mdata\u001b[0m\u001b[0;34m,\u001b[0m \u001b[0mfiles\u001b[0m\u001b[0;34m,\u001b[0m \u001b[0mjson\u001b[0m\u001b[0;34m)\u001b[0m\u001b[0;34m\u001b[0m\u001b[0;34m\u001b[0m\u001b[0m\n",
            "\u001b[0;32m/usr/local/lib/python3.10/dist-packages/requests/models.py\u001b[0m in \u001b[0;36mprepare_headers\u001b[0;34m(self, headers)\u001b[0m\n\u001b[1;32m    449\u001b[0m         \u001b[0mself\u001b[0m\u001b[0;34m.\u001b[0m\u001b[0mheaders\u001b[0m \u001b[0;34m=\u001b[0m \u001b[0mCaseInsensitiveDict\u001b[0m\u001b[0;34m(\u001b[0m\u001b[0;34m)\u001b[0m\u001b[0;34m\u001b[0m\u001b[0;34m\u001b[0m\u001b[0m\n\u001b[1;32m    450\u001b[0m         \u001b[0;32mif\u001b[0m \u001b[0mheaders\u001b[0m\u001b[0;34m:\u001b[0m\u001b[0;34m\u001b[0m\u001b[0;34m\u001b[0m\u001b[0m\n\u001b[0;32m--> 451\u001b[0;31m             \u001b[0;32mfor\u001b[0m \u001b[0mheader\u001b[0m \u001b[0;32min\u001b[0m \u001b[0mheaders\u001b[0m\u001b[0;34m.\u001b[0m\u001b[0mitems\u001b[0m\u001b[0;34m(\u001b[0m\u001b[0;34m)\u001b[0m\u001b[0;34m:\u001b[0m\u001b[0;34m\u001b[0m\u001b[0;34m\u001b[0m\u001b[0m\n\u001b[0m\u001b[1;32m    452\u001b[0m                 \u001b[0;31m# Raise exception on invalid header value.\u001b[0m\u001b[0;34m\u001b[0m\u001b[0;34m\u001b[0m\u001b[0m\n\u001b[1;32m    453\u001b[0m                 \u001b[0mcheck_header_validity\u001b[0m\u001b[0;34m(\u001b[0m\u001b[0mheader\u001b[0m\u001b[0;34m)\u001b[0m\u001b[0;34m\u001b[0m\u001b[0;34m\u001b[0m\u001b[0m\n",
            "\u001b[0;31mAttributeError\u001b[0m: 'set' object has no attribute 'items'"
          ]
        }
      ],
      "source": [
        "def urunKontrolEt():\n",
        "    URL = 'https://detail.1688.com/offer/669801774670.html?spm=a260k.dacugeneral.home2019rec.3.38c235e4Am8u9m&&scm=1007.21237.280932.0&pvid=05380ab9-6da3-4654-8256-7012f409eb05&object_id=669801774670&udsPoolId=2274586&resourceId=1797996&resultType=normal'\n",
        "    headers = {\"User-Agent\":\"Mozilla/5.0 (Windows NT 10.0; Win64; x64) AppleWebKit/537.36 (KHTML, like Gecko) Chrome/113.0.0.0 Safari/537.36\"}\n",
        "    sayfa = requests.get(URL, headers = headers)\n",
        "    icerik = BeautifulSoup(sayfa.content,'html.parser')\n",
        "    #print(icerik)\n",
        "    #productTitle\n",
        "    urunAdi = icerik.find(id='scrollContent').get_text().strip()\n",
        "    #print(urunAdi)\n",
        "    #priceblock_ourprice\n",
        "    ucreti = icerik.find(id='corePriceDisplay_desktop_feature_div').get_text()\n",
        "    ucretDonusturen = int(ucreti[1:6].replace('.',''))\n",
        "    #print(ucretDonusturen)\n",
        "\n",
        "    if(ucretDonusturen < 8000):\n",
        "        print(f\"{ucretDonusturen} TL {urunAdi} fiyatı düştü acele et!!!\")\n",
        "    else:\n",
        "        print(f\"{ucretDonusturen} TL {urunAdi} henüz düşmedi\")\n",
        "\n",
        "while(True):\n",
        "    urunKontrolEt()\n",
        "    time.sleep(3)"
      ]
    },
    {
      "cell_type": "code",
      "source": [],
      "metadata": {
        "id": "tVuJOTIZJ5XN"
      },
      "execution_count": null,
      "outputs": []
    },
    {
      "cell_type": "code",
      "source": [
        "URL = 'https://www.amazon.com.tr/Lenovo-IdeaPad-82K200K3TX-Ta%C5%9F%C4%B1nabilir-Bilgisayar/dp/B09SVCWZKG/ref=sr_1_9?m=A1UNQM1SR2CHM&pd_rd_r=8afcc66d-8789-41d4-a4b9-f488f972dc33&pd_rd_w=PbV39&pd_rd_wg=ikWI3&pf_rd_p=887cbbef-eb11-4186-b339-de2f6a0c0d3c&pf_rd_r=PPB6XY65KVKKPRXECP35&qid=1684396910&refinements=p_6%3AA1UNQM1SR2CHM&rnid=12466440031&s=computers&sr=1-9&srs=17414421031'\n",
        "headers = {\"User-Agent\":\"Mozilla/5.0 (Windows NT 10.0; Win64; x64) AppleWebKit/537.36 (KHTML, like Gecko) Chrome/113.0.0.0 Safari/537.36\"}\n",
        "sayfa = requests.get(URL, headers = headers)\n",
        "icerik = BeautifulSoup(sayfa.content,'html.parser')\n",
        "  #print(icerik)\n",
        "    #productTitle\n",
        "urunAdi = icerik.find(id='productTitle').get_text().strip()\n",
        "    #print(urunAdi)\n",
        "    #priceblock_ourprice\n",
        "ucreti = icerik.find(id='corePriceDisplay_desktop_feature_div').get_text()\n",
        "ucretDonusturen = int(ucreti[1:6].replace('.',''))\n",
        "    #print(ucretDonusturen)\n",
        "\n",
        "id=\"poExpander\""
      ],
      "metadata": {
        "id": "2vwsNMLsTSZt"
      },
      "execution_count": null,
      "outputs": []
    },
    {
      "cell_type": "code",
      "source": [
        "URL = 'https:/https://www.draftegitim.com/okul/goce-delcev-universitesi/bolumler/86'\n",
        "headers = {\"User-Agent\":\"Mozilla/5.0 (Windows NT 10.0; Win64; x64) AppleWebKit/537.36 (KHTML, like Gecko) Chrome/113.0.0.0 Safari/537.36\"}\n",
        "sayfa = requests.get(URL, headers = headers)\n",
        "icerik = BeautifulSoup(sayfa.content,'html.parser')\n",
        "#print(icerik)\n",
        "#productTitle\n",
        "urunAdi = icerik.find(id='productTitle').get_text().strip()\n",
        "print(urunAdi)\n",
        "#priceblock_ourprice\n",
        "ucreti = icerik.find(id='corePriceDisplay_desktop_feature_div').get_text()\n",
        "ucretDonusturen = int(ucreti[1:9].replace('.',''))\n",
        "print(ucretDonusturen)\n",
        "\n",
        "\n",
        "urunaciklama = icerik.find(id=\"poExpander\").get_text().strip()\n",
        "print(urunaciklama)"
      ],
      "metadata": {
        "colab": {
          "base_uri": "https://localhost:8080/"
        },
        "id": "Y_6uwGcviwfa",
        "outputId": "c2bc08f4-fa4f-427f-9279-a2063abdc8d8"
      },
      "execution_count": null,
      "outputs": [
        {
          "output_type": "stream",
          "name": "stdout",
          "text": [
            "Lenovo Ideapad Gaming 3 Dizüstü Bilgisayar, 15.6\" FHD, AMD Ryzen 5 5600H, 8GB RAM, 512GB SSD, NVIDIA GeForce GTX 1650 4GB GDDR6, FreeDOS, 82K200K3TX\n",
            "15297\n",
            "Marka   Lenovo     Seri   Ideapad Gaming 3     Ekran Boyutu   15.6 İnç     Renk   Shadow Black     CPU Modeli   Ryzen 5 5600H     Kurulu RAM Belleği Boyutu   8 GB     İşletim Sistemi   DOS     Grafik Kartı Açıklaması   Özel     Grafik Yardımcı İşlemcisi   NVIDIA GeForce GTX 1650     CPU Hızı   3.3 GHz      Daha fazla göster\n"
          ]
        }
      ]
    },
    {
      "cell_type": "code",
      "source": [
        "URL = 'https://www.hepsiburada.com/spor-ayakkabilar-c-384551?filtreler=cinsiyet%3AErkek&sayfa='\n",
        "headers = {\"User-Agent\":\"Mozilla/5.0 (Windows NT 10.0; Win64; x64) AppleWebKit/537.36 (KHTML, like Gecko) Chrome/113.0.0.0 Safari/537.36\"}\n",
        "r = requests.get(URL, headers = headers)\n",
        "# r = requests.get(\"https://www.hepsiburada.com/spor-ayakkabilar-c-384551?filtreler=cinsiyet%3AErkek&sayfa=\"+str(a)+\"\")\n",
        "soup = BeautifulSoup(r.content,\"lxml\")"
      ],
      "metadata": {
        "id": "BuL7ufWt6o0l"
      },
      "execution_count": null,
      "outputs": []
    },
    {
      "cell_type": "code",
      "source": [
        "import requests\n",
        "from bs4 import BeautifulSoup\n",
        "\n",
        "# Web sayfasından veriyi çekmek için bir HTTP isteği gönderelim\n",
        "url = \"https://www.draftegitim.com/okul/goce-delcev-universitesi/86\"  # Tablo verisinin olduğu web sayfasının URL'si\n",
        "response = requests.get(url)\n",
        "\n",
        "# İsteğin başarılı olup olmadığını kontrol edelim\n",
        "if response.status_code == 200:\n",
        "    # BeautifulSoup ile sayfa içeriğini analiz edelim\n",
        "    soup = BeautifulSoup(response.content, \"lxml\")\n",
        "\n",
        "    # Tablo elemanlarını bulmak için uygun etiketleri veya sınıfları kullanalım\n",
        "    table = soup.find(\"div\",attrs={\"class\": \"p-0\"})  # Tablonun etiketiyle eşleşen ilk elementi bulalım\n",
        "    # Tablo içindeki verileri çekelim\n",
        "    for row in table.find_all(\"filterTable\"):\n",
        "        # Her satır için hücreleri çekelim\n",
        "        cells = row.find_all(\"td\")\n",
        "        if cells:\n",
        "            # Hücre içeriğini yazdıralım veya başka bir işlem yapalım\n",
        "            for cell in cells:\n",
        "                print(cell.text)\n",
        "else:\n",
        "    print(\"Hata: İstek başarısız oldu, durum kodu:\", response.status_code)\n"
      ],
      "metadata": {
        "id": "4jzXd-c97jXw"
      },
      "execution_count": 23,
      "outputs": []
    },
    {
      "cell_type": "code",
      "source": [
        "url = \"https://boxofficeturkiye.com/hafta/?yil=2018&hafta=7\"\n",
        "headers_param = {\"User-Agent\":\"Mozilla/5.0 (Windows NT 10.0; Win64; x64) AppleWebKit/537.36 (KHTML, like Gecko) Chrome/113.0.0.0 Safari/537.36\"}\n",
        "r = requests.get(url,headers = headers_param)\n",
        "soup = BeautifulSoup(r.content,\"lxml\")\n",
        "\n",
        "# class değeri ustcizgi olan table altındaki 2. tr nin altındaki td nin altındaki 3. table ın altındaki tr yi çektik.\n",
        "filmTablosu = soup.find(\"table\",attrs={\"class\":\"ustcizgi\"}).select(\"tr:nth-of-type(2) > td > table:nth-of-type(3) > tr\")\n",
        "\n",
        "for i in range(1,21):\n",
        "    filmAdi = filmTablosu[i].find(\"a\",attrs={\"class\":\"film\"}).get(\"title\")\n",
        "    toplamSeyirci = filmTablosu[i].select(\"td:nth-of-type(10) > font\")[0].text\n",
        "    hasilat = filmTablosu[i].select(\"td:nth-of-type(9) > font\")[0].text\n",
        "    print(\"Film Adı: {} \\nHasılat: {} \\nToplam Seyirci: {}\".format(filmAdi,hasilat,toplamSeyirci))\n",
        "    print(\"-\"*30)"
      ],
      "metadata": {
        "colab": {
          "base_uri": "https://localhost:8080/",
          "height": 269
        },
        "id": "ysaHeVXwTrhR",
        "outputId": "6e279f38-e5a3-42a8-f5ad-59c22bd193b7"
      },
      "execution_count": 27,
      "outputs": [
        {
          "output_type": "error",
          "ename": "AttributeError",
          "evalue": "ignored",
          "traceback": [
            "\u001b[0;31m---------------------------------------------------------------------------\u001b[0m",
            "\u001b[0;31mAttributeError\u001b[0m                            Traceback (most recent call last)",
            "\u001b[0;32m<ipython-input-27-4ff6838a1e5b>\u001b[0m in \u001b[0;36m<cell line: 7>\u001b[0;34m()\u001b[0m\n\u001b[1;32m      5\u001b[0m \u001b[0;34m\u001b[0m\u001b[0m\n\u001b[1;32m      6\u001b[0m \u001b[0;31m# class değeri ustcizgi olan table altındaki 2. tr nin altındaki td nin altındaki 3. table ın altındaki tr yi çektik.\u001b[0m\u001b[0;34m\u001b[0m\u001b[0;34m\u001b[0m\u001b[0m\n\u001b[0;32m----> 7\u001b[0;31m \u001b[0mfilmTablosu\u001b[0m \u001b[0;34m=\u001b[0m \u001b[0msoup\u001b[0m\u001b[0;34m.\u001b[0m\u001b[0mfind\u001b[0m\u001b[0;34m(\u001b[0m\u001b[0;34m\"table\"\u001b[0m\u001b[0;34m,\u001b[0m\u001b[0mattrs\u001b[0m\u001b[0;34m=\u001b[0m\u001b[0;34m{\u001b[0m\u001b[0;34m\"class\"\u001b[0m\u001b[0;34m:\u001b[0m\u001b[0;34m\"ustcizgi\"\u001b[0m\u001b[0;34m}\u001b[0m\u001b[0;34m)\u001b[0m\u001b[0;34m.\u001b[0m\u001b[0mselect\u001b[0m\u001b[0;34m(\u001b[0m\u001b[0;34m\"tr:nth-of-type(2) > td > table:nth-of-type(3) > tr\"\u001b[0m\u001b[0;34m)\u001b[0m\u001b[0;34m\u001b[0m\u001b[0;34m\u001b[0m\u001b[0m\n\u001b[0m\u001b[1;32m      8\u001b[0m \u001b[0;34m\u001b[0m\u001b[0m\n\u001b[1;32m      9\u001b[0m \u001b[0;32mfor\u001b[0m \u001b[0mi\u001b[0m \u001b[0;32min\u001b[0m \u001b[0mrange\u001b[0m\u001b[0;34m(\u001b[0m\u001b[0;36m1\u001b[0m\u001b[0;34m,\u001b[0m\u001b[0;36m21\u001b[0m\u001b[0;34m)\u001b[0m\u001b[0;34m:\u001b[0m\u001b[0;34m\u001b[0m\u001b[0;34m\u001b[0m\u001b[0m\n",
            "\u001b[0;31mAttributeError\u001b[0m: 'NoneType' object has no attribute 'select'"
          ]
        }
      ]
    },
    {
      "cell_type": "code",
      "source": [
        "import pandas as pd\n",
        "\n",
        "url = \"https://www.example.com\"  # Tablo verisinin olduğu web sayfasının URL'si\n",
        "\n",
        "# HTML tablolarını çekmek için pandas'ın read_html() fonksiyonunu kullanalım\n",
        "tables = pd.read_html(url)\n",
        "\n",
        "# İlgilenilen tabloyu seçelim (örneğin, ilk tablo)\n",
        "table = tables[0]\n",
        "\n",
        "# Tablo içindeki verileri kullanalım\n",
        "print(table)"
      ],
      "metadata": {
        "colab": {
          "base_uri": "https://localhost:8080/"
        },
        "id": "yz2y_DmwaG9S",
        "outputId": "c7666b78-7a34-45cf-a45a-d5ecd5af8d5a"
      },
      "execution_count": 22,
      "outputs": [
        {
          "output_type": "execute_result",
          "data": {
            "text/plain": [
              "<Response [200]>"
            ]
          },
          "metadata": {},
          "execution_count": 22
        }
      ]
    },
    {
      "cell_type": "code",
      "source": [
        "liste = []\n",
        "\n",
        "a = 1\n",
        "while a<=30:\n",
        "    URL = 'https://www.1688.com/?spm=0.0.wp_pc_common_header_38229149.0'\n",
        "    headers = {\"User-Agent\":\"Mozilla/5.0 (Windows NT 10.0; Win64; x64) AppleWebKit/537.36 (KHTML, like Gecko) Chrome/113.0.0.0 Safari/537.36\"}\n",
        "    r = requests.get(URL, headers = headers)\n",
        "    soup = BeautifulSoup(r.content,\"lxml\")\n",
        "\n",
        "\n",
        "    st1 = soup.find(\"div\",attrs={\"class\":\"clear rec-offer-list\"})\n",
        "    st2 = st1.find(\"ul\",attrs={\"class\":\"grid rec-offer}\"})\n",
        "    st3 = st2.find_all(\"li\",attrs={\"data-index\":\"1\"})\n",
        "\n",
        "\n",
        "\n",
        "\n",
        "    for detaylar in st3:\n",
        "        link_sonu = detaylar.a.get(\"href\")\n",
        "        link_bası = \"https://www.hepsiburada.com\"\n",
        "        link = link_bası+link_sonu\n",
        "        print(link)\n",
        "\n",
        "        r1 = requests.get(link)\n",
        "        soup1 = BeautifulSoup(r1.content,\"lxml\")\n",
        "\n",
        "        yeni_fiyat = soup1.find(\"span\",attrs={\"itemprop\":\"price\"}).text.strip().replace(\"\\n\",\"\")\n",
        "        print(yeni_fiyat)\n",
        "        orjinal_fiyat = soup1.find(\"del\",attrs={\"id\":\"originalPrice\"}).text\n",
        "        print(orjinal_fiyat)\n",
        "        indirim = soup1.find(\"span\",attrs={\"id\":\"product-discount-rate\"}).text.strip().replace(\"\\n\",\"\").replace(\"\\r\",\"\")\n",
        "        print(indirim)\n",
        "        try:\n",
        "            puan = soup1.find(\"span\",attrs={\"class\":\"rating-star\"}).text.strip()\n",
        "        except:\n",
        "            puan = \"puan yok\"\n",
        "        print(puan)\n",
        "        değerlendirme = soup1.find(\"div\",attrs={\"id\":\"comments-container\"}).text.strip()\n",
        "        print(değerlendirme)\n",
        "        ürün_adı = soup1.find(\"h1\",attrs={\"itemprop\":\"name\"}).text.strip()\n",
        "        print(ürün_adı)\n",
        "        marka = soup1.find(\"span\",attrs={\"class\":\"brand-name\"}).text.strip()\n",
        "        print(marka)\n",
        "        ürün_foto = soup1.img.get(\"src\")\n",
        "        print(ürün_foto)\n",
        "        numaralar = soup1.find_all(\"div\",attrs={\"data-bind\":\"click: setActiveVariantContainer\"})\n",
        "\n",
        "        ayakkabı_nm_liste = []\n",
        "        for numara in numaralar:\n",
        "            ayakkabı_nm = numara.find(\"label\",attrs={\"class\":\"label white\"}).text.strip()\n",
        "            print(ayakkabı_nm)\n",
        "            ayakkabı_nm_liste.append(ayakkabı_nm)\n",
        "\n",
        "\n",
        "        liste.append([ürün_adı,marka,link,ürün_foto,yeni_fiyat,indirim,orjinal_fiyat,puan,değerlendirme,ayakkabı_nm_liste])\n",
        "\n",
        "    a = a+1"
      ],
      "metadata": {
        "colab": {
          "base_uri": "https://localhost:8080/",
          "height": 235
        },
        "id": "WItz-xct43XY",
        "outputId": "30c7d427-00f3-424a-8b9d-74595e93aa70"
      },
      "execution_count": null,
      "outputs": [
        {
          "output_type": "error",
          "ename": "AttributeError",
          "evalue": "ignored",
          "traceback": [
            "\u001b[0;31m---------------------------------------------------------------------------\u001b[0m",
            "\u001b[0;31mAttributeError\u001b[0m                            Traceback (most recent call last)",
            "\u001b[0;32m<ipython-input-18-4e0870228ecd>\u001b[0m in \u001b[0;36m<cell line: 4>\u001b[0;34m()\u001b[0m\n\u001b[1;32m     10\u001b[0m \u001b[0;34m\u001b[0m\u001b[0m\n\u001b[1;32m     11\u001b[0m     \u001b[0mst1\u001b[0m \u001b[0;34m=\u001b[0m \u001b[0msoup\u001b[0m\u001b[0;34m.\u001b[0m\u001b[0mfind\u001b[0m\u001b[0;34m(\u001b[0m\u001b[0;34m\"div\"\u001b[0m\u001b[0;34m,\u001b[0m\u001b[0mattrs\u001b[0m\u001b[0;34m=\u001b[0m\u001b[0;34m{\u001b[0m\u001b[0;34m\"class\"\u001b[0m\u001b[0;34m:\u001b[0m\u001b[0;34m\"contain-lg-3 contain-md-3 contain-sm-3 fluid with-bottom-border\"\u001b[0m\u001b[0;34m}\u001b[0m\u001b[0;34m)\u001b[0m\u001b[0;34m\u001b[0m\u001b[0;34m\u001b[0m\u001b[0m\n\u001b[0;32m---> 12\u001b[0;31m     \u001b[0mst2\u001b[0m \u001b[0;34m=\u001b[0m \u001b[0mst1\u001b[0m\u001b[0;34m.\u001b[0m\u001b[0mfind\u001b[0m\u001b[0;34m(\u001b[0m\u001b[0;34m\"ul\"\u001b[0m\u001b[0;34m,\u001b[0m\u001b[0mattrs\u001b[0m\u001b[0;34m=\u001b[0m\u001b[0;34m{\u001b[0m\u001b[0;34m\"data-bind\"\u001b[0m\u001b[0;34m:\u001b[0m\u001b[0;34m\"css: {grid: isGridSelected, list: isListSelected}\"\u001b[0m\u001b[0;34m}\u001b[0m\u001b[0;34m)\u001b[0m\u001b[0;34m\u001b[0m\u001b[0;34m\u001b[0m\u001b[0m\n\u001b[0m\u001b[1;32m     13\u001b[0m     \u001b[0mst3\u001b[0m \u001b[0;34m=\u001b[0m \u001b[0mst2\u001b[0m\u001b[0;34m.\u001b[0m\u001b[0mfind_all\u001b[0m\u001b[0;34m(\u001b[0m\u001b[0;34m\"li\"\u001b[0m\u001b[0;34m,\u001b[0m\u001b[0mattrs\u001b[0m\u001b[0;34m=\u001b[0m\u001b[0;34m{\u001b[0m\u001b[0;34m\"data-index\"\u001b[0m\u001b[0;34m:\u001b[0m\u001b[0;34m\"1\"\u001b[0m\u001b[0;34m}\u001b[0m\u001b[0;34m)\u001b[0m\u001b[0;34m\u001b[0m\u001b[0;34m\u001b[0m\u001b[0m\n\u001b[1;32m     14\u001b[0m \u001b[0;34m\u001b[0m\u001b[0m\n",
            "\u001b[0;31mAttributeError\u001b[0m: 'NoneType' object has no attribute 'find'"
          ]
        }
      ]
    },
    {
      "cell_type": "code",
      "source": [
        "URL = 'https://www.1688.com/?spm=0.0.wp_pc_common_header_38229149.0'\n",
        "headers = {\"User-Agent\":\"Mozilla/5.0 (Windows NT 10.0; Win64; x64) AppleWebKit/537.36 (KHTML, like Gecko) Chrome/113.0.0.0 Safari/537.36\"}\n",
        "r = requests.get(URL, headers = headers)\n",
        "soup = BeautifulSoup(r.content,\"lxml\")"
      ],
      "metadata": {
        "id": "y_QTmT2xuTm3"
      },
      "execution_count": null,
      "outputs": []
    },
    {
      "cell_type": "code",
      "source": [
        "st1 = soup.find(\"div\",attrs={\"class\":\"clear rec-offer-list\"})"
      ],
      "metadata": {
        "id": "eylLWmr0uTht"
      },
      "execution_count": null,
      "outputs": []
    },
    {
      "cell_type": "code",
      "source": [],
      "metadata": {
        "id": "fAD05SKguTd9"
      },
      "execution_count": null,
      "outputs": []
    },
    {
      "cell_type": "code",
      "source": [],
      "metadata": {
        "id": "aFSaCIjruTZb"
      },
      "execution_count": null,
      "outputs": []
    },
    {
      "cell_type": "code",
      "source": [],
      "metadata": {
        "id": "pA8Y2ykauTVq"
      },
      "execution_count": null,
      "outputs": []
    },
    {
      "cell_type": "code",
      "source": [],
      "metadata": {
        "id": "e_ivY-p1uTSK"
      },
      "execution_count": null,
      "outputs": []
    },
    {
      "cell_type": "code",
      "source": [],
      "metadata": {
        "id": "YKpfE-BauSO5"
      },
      "execution_count": null,
      "outputs": []
    },
    {
      "cell_type": "code",
      "source": [],
      "metadata": {
        "id": "qlYjgwchuR9u"
      },
      "execution_count": null,
      "outputs": []
    },
    {
      "cell_type": "code",
      "source": [],
      "metadata": {
        "id": "J9sBrZRBBDEc"
      },
      "execution_count": null,
      "outputs": []
    },
    {
      "cell_type": "code",
      "source": [
        "import pandas as pd"
      ],
      "metadata": {
        "id": "XlyjY08TbJli"
      },
      "execution_count": 1,
      "outputs": []
    },
    {
      "cell_type": "code",
      "source": [
        "url = \"https://www.draftegitim.com/okul/goce-delcev-universitesi/bolumler/86\"  # Tablo verisinin olduğu web sayfasının URL'si\n",
        "\n",
        "# HTML tablolarını çekmek için pandas'ın read_html() fonksiyonunu kullanalım\n",
        "tables = pd.read_html(url)\n",
        "\n",
        "# İlgilenilen tabloyu seçelim (örneğin, ilk tablo)\n",
        "table = tables[0]\n",
        "\n",
        "# Tablo içindeki verileri kullanalım\n",
        "table"
      ],
      "metadata": {
        "id": "WtbcXK6j420v",
        "colab": {
          "base_uri": "https://localhost:8080/",
          "height": 1000
        },
        "outputId": "38a44abc-a7f1-43b7-8f6e-dfb8060813ae"
      },
      "execution_count": 29,
      "outputs": [
        {
          "output_type": "execute_result",
          "data": {
            "text/plain": [
              "                                Bölüm Adı Eğitim Dili          Süre   Fiyat  \\\n",
              "0                                Filoloji   Makedonca  4 Yıl Lisans  1000 €   \n",
              "1                               Teknoloji   Makedonca  3 Yıl Lisans  1000 €   \n",
              "2                                 Mekanik   Makedonca  3 Yıl Lisans  1000 €   \n",
              "3                                 Jeoloji   Makedonca  3 Yıl Lisans  1000 €   \n",
              "4                                 Ekonomi   Makedonca  3 Yıl Lisans  1000 €   \n",
              "5                                   Müzik   Makedonca  4 Yıl Lisans  1000 €   \n",
              "6                                   Hukuk   Makedonca  3 Yıl Lisans  1000 €   \n",
              "7                                     Tıp   İngilizce  6 Yıl Lisans  6000 €   \n",
              "8                    Mütercim Tercümanlık   Makedonca  4 Yıl Lisans  1000 €   \n",
              "9            Teknoloji ve Teknik Bilimler   Makedonca  3 Yıl Lisans  1000 €   \n",
              "10                             Gastronomi   Makedonca  3 Yıl Lisans  1000 €   \n",
              "11                       Yeni Materyaller   Makedonca  3 Yıl Lisans  1000 €   \n",
              "12                                 Ziraat   Makedonca  4 Yıl Lisans  1000 €   \n",
              "13                               Elektrik   Makedonca  3 Yıl Lisans  1000 €   \n",
              "14                    Mimarlık ve Tasarım   Makedonca  3 Yıl Lisans  1000 €   \n",
              "15                  Elektrik Mühendisliği   Makedonca  3 Yıl Lisans  1000 €   \n",
              "16                             Enformatik   Makedonca  3 Yıl Lisans  1000 €   \n",
              "17                Yönetim ve Girişimcilik   Makedonca  3 Yıl Lisans  1000 €   \n",
              "18                          Diş Hekimliği   Makedonca  5 Yıl Lisans  1650 €   \n",
              "19               Doğal ve Teknik Bilimler   Makedonca  3 Yıl Lisans  1000 €   \n",
              "20             Turizm ve Lojistik İşletme   Makedonca  3 Yıl Lisans  1000 €   \n",
              "21                    İnşaat Mühendisliği   Makedonca  3 Yıl Lisans  1000 €   \n",
              "22                                    Tıp   Makedonca  6 Yıl Lisans  1650 €   \n",
              "23                                   Doğa   Makedonca  3 Yıl Lisans  1000 €   \n",
              "24                           Fizik Tedavi   Makedonca  3 Yıl Lisans  1000 €   \n",
              "25                             Hemşirelik   Makedonca  3 Yıl Lisans  1000 €   \n",
              "26                 Optimetri ve Göz Optik   Makedonca  3 Yıl Lisans  1000 €   \n",
              "27                              Eczacılık   Makedonca  5 Yıl Lisans  1650 €   \n",
              "28          Tıbbi Laboratuvar Asistanlığı   Makedonca  3 Yıl Lisans  1000 €   \n",
              "29                                Bilişim   Makedonca  3 Yıl Lisans  1000 €   \n",
              "30            Muhasebe, Finans ve Denetim   Makedonca  4 Yıl Lisans  1000 €   \n",
              "31  Diş Teknisyenliği ve Protez Uzmanlığı   Makedonca  3 Yıl Lisans  1000 €   \n",
              "32                                 Eğitim   Makedonca  3 Yıl Lisans  1000 €   \n",
              "\n",
              "    Unnamed: 4  \n",
              "0          NaN  \n",
              "1          NaN  \n",
              "2          NaN  \n",
              "3          NaN  \n",
              "4          NaN  \n",
              "5          NaN  \n",
              "6          NaN  \n",
              "7          NaN  \n",
              "8          NaN  \n",
              "9          NaN  \n",
              "10         NaN  \n",
              "11         NaN  \n",
              "12         NaN  \n",
              "13         NaN  \n",
              "14         NaN  \n",
              "15         NaN  \n",
              "16         NaN  \n",
              "17         NaN  \n",
              "18         NaN  \n",
              "19         NaN  \n",
              "20         NaN  \n",
              "21         NaN  \n",
              "22         NaN  \n",
              "23         NaN  \n",
              "24         NaN  \n",
              "25         NaN  \n",
              "26         NaN  \n",
              "27         NaN  \n",
              "28         NaN  \n",
              "29         NaN  \n",
              "30         NaN  \n",
              "31         NaN  \n",
              "32         NaN  "
            ],
            "text/html": [
              "\n",
              "  <div id=\"df-f2cf0131-09c1-4b1d-8355-6a092b52404c\">\n",
              "    <div class=\"colab-df-container\">\n",
              "      <div>\n",
              "<style scoped>\n",
              "    .dataframe tbody tr th:only-of-type {\n",
              "        vertical-align: middle;\n",
              "    }\n",
              "\n",
              "    .dataframe tbody tr th {\n",
              "        vertical-align: top;\n",
              "    }\n",
              "\n",
              "    .dataframe thead th {\n",
              "        text-align: right;\n",
              "    }\n",
              "</style>\n",
              "<table border=\"1\" class=\"dataframe\">\n",
              "  <thead>\n",
              "    <tr style=\"text-align: right;\">\n",
              "      <th></th>\n",
              "      <th>Bölüm Adı</th>\n",
              "      <th>Eğitim Dili</th>\n",
              "      <th>Süre</th>\n",
              "      <th>Fiyat</th>\n",
              "      <th>Unnamed: 4</th>\n",
              "    </tr>\n",
              "  </thead>\n",
              "  <tbody>\n",
              "    <tr>\n",
              "      <th>0</th>\n",
              "      <td>Filoloji</td>\n",
              "      <td>Makedonca</td>\n",
              "      <td>4 Yıl Lisans</td>\n",
              "      <td>1000 €</td>\n",
              "      <td>NaN</td>\n",
              "    </tr>\n",
              "    <tr>\n",
              "      <th>1</th>\n",
              "      <td>Teknoloji</td>\n",
              "      <td>Makedonca</td>\n",
              "      <td>3 Yıl Lisans</td>\n",
              "      <td>1000 €</td>\n",
              "      <td>NaN</td>\n",
              "    </tr>\n",
              "    <tr>\n",
              "      <th>2</th>\n",
              "      <td>Mekanik</td>\n",
              "      <td>Makedonca</td>\n",
              "      <td>3 Yıl Lisans</td>\n",
              "      <td>1000 €</td>\n",
              "      <td>NaN</td>\n",
              "    </tr>\n",
              "    <tr>\n",
              "      <th>3</th>\n",
              "      <td>Jeoloji</td>\n",
              "      <td>Makedonca</td>\n",
              "      <td>3 Yıl Lisans</td>\n",
              "      <td>1000 €</td>\n",
              "      <td>NaN</td>\n",
              "    </tr>\n",
              "    <tr>\n",
              "      <th>4</th>\n",
              "      <td>Ekonomi</td>\n",
              "      <td>Makedonca</td>\n",
              "      <td>3 Yıl Lisans</td>\n",
              "      <td>1000 €</td>\n",
              "      <td>NaN</td>\n",
              "    </tr>\n",
              "    <tr>\n",
              "      <th>5</th>\n",
              "      <td>Müzik</td>\n",
              "      <td>Makedonca</td>\n",
              "      <td>4 Yıl Lisans</td>\n",
              "      <td>1000 €</td>\n",
              "      <td>NaN</td>\n",
              "    </tr>\n",
              "    <tr>\n",
              "      <th>6</th>\n",
              "      <td>Hukuk</td>\n",
              "      <td>Makedonca</td>\n",
              "      <td>3 Yıl Lisans</td>\n",
              "      <td>1000 €</td>\n",
              "      <td>NaN</td>\n",
              "    </tr>\n",
              "    <tr>\n",
              "      <th>7</th>\n",
              "      <td>Tıp</td>\n",
              "      <td>İngilizce</td>\n",
              "      <td>6 Yıl Lisans</td>\n",
              "      <td>6000 €</td>\n",
              "      <td>NaN</td>\n",
              "    </tr>\n",
              "    <tr>\n",
              "      <th>8</th>\n",
              "      <td>Mütercim Tercümanlık</td>\n",
              "      <td>Makedonca</td>\n",
              "      <td>4 Yıl Lisans</td>\n",
              "      <td>1000 €</td>\n",
              "      <td>NaN</td>\n",
              "    </tr>\n",
              "    <tr>\n",
              "      <th>9</th>\n",
              "      <td>Teknoloji ve Teknik Bilimler</td>\n",
              "      <td>Makedonca</td>\n",
              "      <td>3 Yıl Lisans</td>\n",
              "      <td>1000 €</td>\n",
              "      <td>NaN</td>\n",
              "    </tr>\n",
              "    <tr>\n",
              "      <th>10</th>\n",
              "      <td>Gastronomi</td>\n",
              "      <td>Makedonca</td>\n",
              "      <td>3 Yıl Lisans</td>\n",
              "      <td>1000 €</td>\n",
              "      <td>NaN</td>\n",
              "    </tr>\n",
              "    <tr>\n",
              "      <th>11</th>\n",
              "      <td>Yeni Materyaller</td>\n",
              "      <td>Makedonca</td>\n",
              "      <td>3 Yıl Lisans</td>\n",
              "      <td>1000 €</td>\n",
              "      <td>NaN</td>\n",
              "    </tr>\n",
              "    <tr>\n",
              "      <th>12</th>\n",
              "      <td>Ziraat</td>\n",
              "      <td>Makedonca</td>\n",
              "      <td>4 Yıl Lisans</td>\n",
              "      <td>1000 €</td>\n",
              "      <td>NaN</td>\n",
              "    </tr>\n",
              "    <tr>\n",
              "      <th>13</th>\n",
              "      <td>Elektrik</td>\n",
              "      <td>Makedonca</td>\n",
              "      <td>3 Yıl Lisans</td>\n",
              "      <td>1000 €</td>\n",
              "      <td>NaN</td>\n",
              "    </tr>\n",
              "    <tr>\n",
              "      <th>14</th>\n",
              "      <td>Mimarlık ve Tasarım</td>\n",
              "      <td>Makedonca</td>\n",
              "      <td>3 Yıl Lisans</td>\n",
              "      <td>1000 €</td>\n",
              "      <td>NaN</td>\n",
              "    </tr>\n",
              "    <tr>\n",
              "      <th>15</th>\n",
              "      <td>Elektrik Mühendisliği</td>\n",
              "      <td>Makedonca</td>\n",
              "      <td>3 Yıl Lisans</td>\n",
              "      <td>1000 €</td>\n",
              "      <td>NaN</td>\n",
              "    </tr>\n",
              "    <tr>\n",
              "      <th>16</th>\n",
              "      <td>Enformatik</td>\n",
              "      <td>Makedonca</td>\n",
              "      <td>3 Yıl Lisans</td>\n",
              "      <td>1000 €</td>\n",
              "      <td>NaN</td>\n",
              "    </tr>\n",
              "    <tr>\n",
              "      <th>17</th>\n",
              "      <td>Yönetim ve Girişimcilik</td>\n",
              "      <td>Makedonca</td>\n",
              "      <td>3 Yıl Lisans</td>\n",
              "      <td>1000 €</td>\n",
              "      <td>NaN</td>\n",
              "    </tr>\n",
              "    <tr>\n",
              "      <th>18</th>\n",
              "      <td>Diş Hekimliği</td>\n",
              "      <td>Makedonca</td>\n",
              "      <td>5 Yıl Lisans</td>\n",
              "      <td>1650 €</td>\n",
              "      <td>NaN</td>\n",
              "    </tr>\n",
              "    <tr>\n",
              "      <th>19</th>\n",
              "      <td>Doğal ve Teknik Bilimler</td>\n",
              "      <td>Makedonca</td>\n",
              "      <td>3 Yıl Lisans</td>\n",
              "      <td>1000 €</td>\n",
              "      <td>NaN</td>\n",
              "    </tr>\n",
              "    <tr>\n",
              "      <th>20</th>\n",
              "      <td>Turizm ve Lojistik İşletme</td>\n",
              "      <td>Makedonca</td>\n",
              "      <td>3 Yıl Lisans</td>\n",
              "      <td>1000 €</td>\n",
              "      <td>NaN</td>\n",
              "    </tr>\n",
              "    <tr>\n",
              "      <th>21</th>\n",
              "      <td>İnşaat Mühendisliği</td>\n",
              "      <td>Makedonca</td>\n",
              "      <td>3 Yıl Lisans</td>\n",
              "      <td>1000 €</td>\n",
              "      <td>NaN</td>\n",
              "    </tr>\n",
              "    <tr>\n",
              "      <th>22</th>\n",
              "      <td>Tıp</td>\n",
              "      <td>Makedonca</td>\n",
              "      <td>6 Yıl Lisans</td>\n",
              "      <td>1650 €</td>\n",
              "      <td>NaN</td>\n",
              "    </tr>\n",
              "    <tr>\n",
              "      <th>23</th>\n",
              "      <td>Doğa</td>\n",
              "      <td>Makedonca</td>\n",
              "      <td>3 Yıl Lisans</td>\n",
              "      <td>1000 €</td>\n",
              "      <td>NaN</td>\n",
              "    </tr>\n",
              "    <tr>\n",
              "      <th>24</th>\n",
              "      <td>Fizik Tedavi</td>\n",
              "      <td>Makedonca</td>\n",
              "      <td>3 Yıl Lisans</td>\n",
              "      <td>1000 €</td>\n",
              "      <td>NaN</td>\n",
              "    </tr>\n",
              "    <tr>\n",
              "      <th>25</th>\n",
              "      <td>Hemşirelik</td>\n",
              "      <td>Makedonca</td>\n",
              "      <td>3 Yıl Lisans</td>\n",
              "      <td>1000 €</td>\n",
              "      <td>NaN</td>\n",
              "    </tr>\n",
              "    <tr>\n",
              "      <th>26</th>\n",
              "      <td>Optimetri ve Göz Optik</td>\n",
              "      <td>Makedonca</td>\n",
              "      <td>3 Yıl Lisans</td>\n",
              "      <td>1000 €</td>\n",
              "      <td>NaN</td>\n",
              "    </tr>\n",
              "    <tr>\n",
              "      <th>27</th>\n",
              "      <td>Eczacılık</td>\n",
              "      <td>Makedonca</td>\n",
              "      <td>5 Yıl Lisans</td>\n",
              "      <td>1650 €</td>\n",
              "      <td>NaN</td>\n",
              "    </tr>\n",
              "    <tr>\n",
              "      <th>28</th>\n",
              "      <td>Tıbbi Laboratuvar Asistanlığı</td>\n",
              "      <td>Makedonca</td>\n",
              "      <td>3 Yıl Lisans</td>\n",
              "      <td>1000 €</td>\n",
              "      <td>NaN</td>\n",
              "    </tr>\n",
              "    <tr>\n",
              "      <th>29</th>\n",
              "      <td>Bilişim</td>\n",
              "      <td>Makedonca</td>\n",
              "      <td>3 Yıl Lisans</td>\n",
              "      <td>1000 €</td>\n",
              "      <td>NaN</td>\n",
              "    </tr>\n",
              "    <tr>\n",
              "      <th>30</th>\n",
              "      <td>Muhasebe, Finans ve Denetim</td>\n",
              "      <td>Makedonca</td>\n",
              "      <td>4 Yıl Lisans</td>\n",
              "      <td>1000 €</td>\n",
              "      <td>NaN</td>\n",
              "    </tr>\n",
              "    <tr>\n",
              "      <th>31</th>\n",
              "      <td>Diş Teknisyenliği ve Protez Uzmanlığı</td>\n",
              "      <td>Makedonca</td>\n",
              "      <td>3 Yıl Lisans</td>\n",
              "      <td>1000 €</td>\n",
              "      <td>NaN</td>\n",
              "    </tr>\n",
              "    <tr>\n",
              "      <th>32</th>\n",
              "      <td>Eğitim</td>\n",
              "      <td>Makedonca</td>\n",
              "      <td>3 Yıl Lisans</td>\n",
              "      <td>1000 €</td>\n",
              "      <td>NaN</td>\n",
              "    </tr>\n",
              "  </tbody>\n",
              "</table>\n",
              "</div>\n",
              "      <button class=\"colab-df-convert\" onclick=\"convertToInteractive('df-f2cf0131-09c1-4b1d-8355-6a092b52404c')\"\n",
              "              title=\"Convert this dataframe to an interactive table.\"\n",
              "              style=\"display:none;\">\n",
              "        \n",
              "  <svg xmlns=\"http://www.w3.org/2000/svg\" height=\"24px\"viewBox=\"0 0 24 24\"\n",
              "       width=\"24px\">\n",
              "    <path d=\"M0 0h24v24H0V0z\" fill=\"none\"/>\n",
              "    <path d=\"M18.56 5.44l.94 2.06.94-2.06 2.06-.94-2.06-.94-.94-2.06-.94 2.06-2.06.94zm-11 1L8.5 8.5l.94-2.06 2.06-.94-2.06-.94L8.5 2.5l-.94 2.06-2.06.94zm10 10l.94 2.06.94-2.06 2.06-.94-2.06-.94-.94-2.06-.94 2.06-2.06.94z\"/><path d=\"M17.41 7.96l-1.37-1.37c-.4-.4-.92-.59-1.43-.59-.52 0-1.04.2-1.43.59L10.3 9.45l-7.72 7.72c-.78.78-.78 2.05 0 2.83L4 21.41c.39.39.9.59 1.41.59.51 0 1.02-.2 1.41-.59l7.78-7.78 2.81-2.81c.8-.78.8-2.07 0-2.86zM5.41 20L4 18.59l7.72-7.72 1.47 1.35L5.41 20z\"/>\n",
              "  </svg>\n",
              "      </button>\n",
              "      \n",
              "  <style>\n",
              "    .colab-df-container {\n",
              "      display:flex;\n",
              "      flex-wrap:wrap;\n",
              "      gap: 12px;\n",
              "    }\n",
              "\n",
              "    .colab-df-convert {\n",
              "      background-color: #E8F0FE;\n",
              "      border: none;\n",
              "      border-radius: 50%;\n",
              "      cursor: pointer;\n",
              "      display: none;\n",
              "      fill: #1967D2;\n",
              "      height: 32px;\n",
              "      padding: 0 0 0 0;\n",
              "      width: 32px;\n",
              "    }\n",
              "\n",
              "    .colab-df-convert:hover {\n",
              "      background-color: #E2EBFA;\n",
              "      box-shadow: 0px 1px 2px rgba(60, 64, 67, 0.3), 0px 1px 3px 1px rgba(60, 64, 67, 0.15);\n",
              "      fill: #174EA6;\n",
              "    }\n",
              "\n",
              "    [theme=dark] .colab-df-convert {\n",
              "      background-color: #3B4455;\n",
              "      fill: #D2E3FC;\n",
              "    }\n",
              "\n",
              "    [theme=dark] .colab-df-convert:hover {\n",
              "      background-color: #434B5C;\n",
              "      box-shadow: 0px 1px 3px 1px rgba(0, 0, 0, 0.15);\n",
              "      filter: drop-shadow(0px 1px 2px rgba(0, 0, 0, 0.3));\n",
              "      fill: #FFFFFF;\n",
              "    }\n",
              "  </style>\n",
              "\n",
              "      <script>\n",
              "        const buttonEl =\n",
              "          document.querySelector('#df-f2cf0131-09c1-4b1d-8355-6a092b52404c button.colab-df-convert');\n",
              "        buttonEl.style.display =\n",
              "          google.colab.kernel.accessAllowed ? 'block' : 'none';\n",
              "\n",
              "        async function convertToInteractive(key) {\n",
              "          const element = document.querySelector('#df-f2cf0131-09c1-4b1d-8355-6a092b52404c');\n",
              "          const dataTable =\n",
              "            await google.colab.kernel.invokeFunction('convertToInteractive',\n",
              "                                                     [key], {});\n",
              "          if (!dataTable) return;\n",
              "\n",
              "          const docLinkHtml = 'Like what you see? Visit the ' +\n",
              "            '<a target=\"_blank\" href=https://colab.research.google.com/notebooks/data_table.ipynb>data table notebook</a>'\n",
              "            + ' to learn more about interactive tables.';\n",
              "          element.innerHTML = '';\n",
              "          dataTable['output_type'] = 'display_data';\n",
              "          await google.colab.output.renderOutput(dataTable, element);\n",
              "          const docLink = document.createElement('div');\n",
              "          docLink.innerHTML = docLinkHtml;\n",
              "          element.appendChild(docLink);\n",
              "        }\n",
              "      </script>\n",
              "    </div>\n",
              "  </div>\n",
              "  "
            ]
          },
          "metadata": {},
          "execution_count": 29
        }
      ]
    },
    {
      "cell_type": "code",
      "source": [
        "table.dtypes"
      ],
      "metadata": {
        "colab": {
          "base_uri": "https://localhost:8080/"
        },
        "id": "NKq21T30hwtS",
        "outputId": "28a7209d-ebfd-45af-ccb4-4db72ecfadee"
      },
      "execution_count": 33,
      "outputs": [
        {
          "output_type": "execute_result",
          "data": {
            "text/plain": [
              "Bölüm Adı       object\n",
              "Eğitim Dili     object\n",
              "Süre            object\n",
              "Fiyat           object\n",
              "Unnamed: 4     float64\n",
              "dtype: object"
            ]
          },
          "metadata": {},
          "execution_count": 33
        }
      ]
    },
    {
      "cell_type": "code",
      "source": [
        "table.columns"
      ],
      "metadata": {
        "colab": {
          "base_uri": "https://localhost:8080/"
        },
        "id": "lXZHjBfXAy3p",
        "outputId": "5d2bdf33-412f-4f1e-a646-862cbf3ee2e3"
      },
      "execution_count": 34,
      "outputs": [
        {
          "output_type": "execute_result",
          "data": {
            "text/plain": [
              "Index(['Bölüm Adı', 'Eğitim Dili', 'Süre', 'Fiyat', 'Unnamed: 4'], dtype='object')"
            ]
          },
          "metadata": {},
          "execution_count": 34
        }
      ]
    },
    {
      "cell_type": "code",
      "source": [
        "table = table['Bölüm Adı', 'Eğitim Dili', 'Süre', 'Fiyat']"
      ],
      "metadata": {
        "colab": {
          "base_uri": "https://localhost:8080/",
          "height": 502
        },
        "id": "cpyEsFCVAyU5",
        "outputId": "802f78b2-9071-4731-b6fb-4001e9e2bf1a"
      },
      "execution_count": 35,
      "outputs": [
        {
          "output_type": "error",
          "ename": "KeyError",
          "evalue": "ignored",
          "traceback": [
            "\u001b[0;31m---------------------------------------------------------------------------\u001b[0m",
            "\u001b[0;31mKeyError\u001b[0m                                  Traceback (most recent call last)",
            "\u001b[0;32m/usr/local/lib/python3.10/dist-packages/pandas/core/indexes/base.py\u001b[0m in \u001b[0;36mget_loc\u001b[0;34m(self, key, method, tolerance)\u001b[0m\n\u001b[1;32m   3801\u001b[0m             \u001b[0;32mtry\u001b[0m\u001b[0;34m:\u001b[0m\u001b[0;34m\u001b[0m\u001b[0;34m\u001b[0m\u001b[0m\n\u001b[0;32m-> 3802\u001b[0;31m                 \u001b[0;32mreturn\u001b[0m \u001b[0mself\u001b[0m\u001b[0;34m.\u001b[0m\u001b[0m_engine\u001b[0m\u001b[0;34m.\u001b[0m\u001b[0mget_loc\u001b[0m\u001b[0;34m(\u001b[0m\u001b[0mcasted_key\u001b[0m\u001b[0;34m)\u001b[0m\u001b[0;34m\u001b[0m\u001b[0;34m\u001b[0m\u001b[0m\n\u001b[0m\u001b[1;32m   3803\u001b[0m             \u001b[0;32mexcept\u001b[0m \u001b[0mKeyError\u001b[0m \u001b[0;32mas\u001b[0m \u001b[0merr\u001b[0m\u001b[0;34m:\u001b[0m\u001b[0;34m\u001b[0m\u001b[0;34m\u001b[0m\u001b[0m\n",
            "\u001b[0;32m/usr/local/lib/python3.10/dist-packages/pandas/_libs/index.pyx\u001b[0m in \u001b[0;36mpandas._libs.index.IndexEngine.get_loc\u001b[0;34m()\u001b[0m\n",
            "\u001b[0;32m/usr/local/lib/python3.10/dist-packages/pandas/_libs/index.pyx\u001b[0m in \u001b[0;36mpandas._libs.index.IndexEngine.get_loc\u001b[0;34m()\u001b[0m\n",
            "\u001b[0;32mpandas/_libs/hashtable_class_helper.pxi\u001b[0m in \u001b[0;36mpandas._libs.hashtable.PyObjectHashTable.get_item\u001b[0;34m()\u001b[0m\n",
            "\u001b[0;32mpandas/_libs/hashtable_class_helper.pxi\u001b[0m in \u001b[0;36mpandas._libs.hashtable.PyObjectHashTable.get_item\u001b[0;34m()\u001b[0m\n",
            "\u001b[0;31mKeyError\u001b[0m: ('Bölüm Adı', 'Eğitim Dili', 'Süre', 'Fiyat')",
            "\nThe above exception was the direct cause of the following exception:\n",
            "\u001b[0;31mKeyError\u001b[0m                                  Traceback (most recent call last)",
            "\u001b[0;32m<ipython-input-35-688c3d725e7b>\u001b[0m in \u001b[0;36m<cell line: 1>\u001b[0;34m()\u001b[0m\n\u001b[0;32m----> 1\u001b[0;31m \u001b[0mtable\u001b[0m \u001b[0;34m=\u001b[0m \u001b[0mtable\u001b[0m\u001b[0;34m[\u001b[0m\u001b[0;34m'Bölüm Adı'\u001b[0m\u001b[0;34m,\u001b[0m \u001b[0;34m'Eğitim Dili'\u001b[0m\u001b[0;34m,\u001b[0m \u001b[0;34m'Süre'\u001b[0m\u001b[0;34m,\u001b[0m \u001b[0;34m'Fiyat'\u001b[0m\u001b[0;34m]\u001b[0m\u001b[0;34m\u001b[0m\u001b[0;34m\u001b[0m\u001b[0m\n\u001b[0m",
            "\u001b[0;32m/usr/local/lib/python3.10/dist-packages/pandas/core/frame.py\u001b[0m in \u001b[0;36m__getitem__\u001b[0;34m(self, key)\u001b[0m\n\u001b[1;32m   3805\u001b[0m             \u001b[0;32mif\u001b[0m \u001b[0mself\u001b[0m\u001b[0;34m.\u001b[0m\u001b[0mcolumns\u001b[0m\u001b[0;34m.\u001b[0m\u001b[0mnlevels\u001b[0m \u001b[0;34m>\u001b[0m \u001b[0;36m1\u001b[0m\u001b[0;34m:\u001b[0m\u001b[0;34m\u001b[0m\u001b[0;34m\u001b[0m\u001b[0m\n\u001b[1;32m   3806\u001b[0m                 \u001b[0;32mreturn\u001b[0m \u001b[0mself\u001b[0m\u001b[0;34m.\u001b[0m\u001b[0m_getitem_multilevel\u001b[0m\u001b[0;34m(\u001b[0m\u001b[0mkey\u001b[0m\u001b[0;34m)\u001b[0m\u001b[0;34m\u001b[0m\u001b[0;34m\u001b[0m\u001b[0m\n\u001b[0;32m-> 3807\u001b[0;31m             \u001b[0mindexer\u001b[0m \u001b[0;34m=\u001b[0m \u001b[0mself\u001b[0m\u001b[0;34m.\u001b[0m\u001b[0mcolumns\u001b[0m\u001b[0;34m.\u001b[0m\u001b[0mget_loc\u001b[0m\u001b[0;34m(\u001b[0m\u001b[0mkey\u001b[0m\u001b[0;34m)\u001b[0m\u001b[0;34m\u001b[0m\u001b[0;34m\u001b[0m\u001b[0m\n\u001b[0m\u001b[1;32m   3808\u001b[0m             \u001b[0;32mif\u001b[0m \u001b[0mis_integer\u001b[0m\u001b[0;34m(\u001b[0m\u001b[0mindexer\u001b[0m\u001b[0;34m)\u001b[0m\u001b[0;34m:\u001b[0m\u001b[0;34m\u001b[0m\u001b[0;34m\u001b[0m\u001b[0m\n\u001b[1;32m   3809\u001b[0m                 \u001b[0mindexer\u001b[0m \u001b[0;34m=\u001b[0m \u001b[0;34m[\u001b[0m\u001b[0mindexer\u001b[0m\u001b[0;34m]\u001b[0m\u001b[0;34m\u001b[0m\u001b[0;34m\u001b[0m\u001b[0m\n",
            "\u001b[0;32m/usr/local/lib/python3.10/dist-packages/pandas/core/indexes/base.py\u001b[0m in \u001b[0;36mget_loc\u001b[0;34m(self, key, method, tolerance)\u001b[0m\n\u001b[1;32m   3802\u001b[0m                 \u001b[0;32mreturn\u001b[0m \u001b[0mself\u001b[0m\u001b[0;34m.\u001b[0m\u001b[0m_engine\u001b[0m\u001b[0;34m.\u001b[0m\u001b[0mget_loc\u001b[0m\u001b[0;34m(\u001b[0m\u001b[0mcasted_key\u001b[0m\u001b[0;34m)\u001b[0m\u001b[0;34m\u001b[0m\u001b[0;34m\u001b[0m\u001b[0m\n\u001b[1;32m   3803\u001b[0m             \u001b[0;32mexcept\u001b[0m \u001b[0mKeyError\u001b[0m \u001b[0;32mas\u001b[0m \u001b[0merr\u001b[0m\u001b[0;34m:\u001b[0m\u001b[0;34m\u001b[0m\u001b[0;34m\u001b[0m\u001b[0m\n\u001b[0;32m-> 3804\u001b[0;31m                 \u001b[0;32mraise\u001b[0m \u001b[0mKeyError\u001b[0m\u001b[0;34m(\u001b[0m\u001b[0mkey\u001b[0m\u001b[0;34m)\u001b[0m \u001b[0;32mfrom\u001b[0m \u001b[0merr\u001b[0m\u001b[0;34m\u001b[0m\u001b[0;34m\u001b[0m\u001b[0m\n\u001b[0m\u001b[1;32m   3805\u001b[0m             \u001b[0;32mexcept\u001b[0m \u001b[0mTypeError\u001b[0m\u001b[0;34m:\u001b[0m\u001b[0;34m\u001b[0m\u001b[0;34m\u001b[0m\u001b[0m\n\u001b[1;32m   3806\u001b[0m                 \u001b[0;31m# If we have a listlike key, _check_indexing_error will raise\u001b[0m\u001b[0;34m\u001b[0m\u001b[0;34m\u001b[0m\u001b[0m\n",
            "\u001b[0;31mKeyError\u001b[0m: ('Bölüm Adı', 'Eğitim Dili', 'Süre', 'Fiyat')"
          ]
        }
      ]
    },
    {
      "cell_type": "code",
      "source": [
        "table.to_excel('Goce Delcev Üniversitesi.xlsx', index=False)"
      ],
      "metadata": {
        "id": "L-rCa9FziHzT"
      },
      "execution_count": 37,
      "outputs": []
    }
  ]
}