{
  "nbformat": 4,
  "nbformat_minor": 0,
  "metadata": {
    "colab": {
      "name": "8.11.2021 Python study.ipynb",
      "provenance": [],
      "authorship_tag": "ABX9TyNfvw30L28I3QjULyC9Hvmr",
      "include_colab_link": true
    },
    "kernelspec": {
      "name": "python3",
      "display_name": "Python 3"
    },
    "language_info": {
      "name": "python"
    }
  },
  "cells": [
    {
      "cell_type": "markdown",
      "metadata": {
        "id": "view-in-github",
        "colab_type": "text"
      },
      "source": [
        "<a href=\"https://colab.research.google.com/github/Porxelek/Porxelek/blob/main/8_11_2021_Python_study.ipynb\" target=\"_parent\"><img src=\"https://colab.research.google.com/assets/colab-badge.svg\" alt=\"Open In Colab\"/></a>"
      ]
    },
    {
      "cell_type": "code",
      "metadata": {
        "colab": {
          "base_uri": "https://localhost:8080/"
        },
        "id": "fE9fxsGbwcXZ",
        "outputId": "9e5366d4-6301-4d6c-cc67-cd40d728e6ba"
      },
      "source": [
        "bool_value = False\n",
        "if bool_value:\n",
        "  print(\"Yes\")\n",
        "else :\n",
        "  print(\"No\")"
      ],
      "execution_count": 2,
      "outputs": [
        {
          "output_type": "stream",
          "name": "stdout",
          "text": [
            "No\n"
          ]
        }
      ]
    },
    {
      "cell_type": "code",
      "metadata": {
        "colab": {
          "base_uri": "https://localhost:8080/"
        },
        "id": "68Eu9xutw-I5",
        "outputId": "0861827b-9aa0-40c6-b0bb-5b1942c450d7"
      },
      "source": [
        "number1 = float(input(\"Enter first number :\"))\n",
        "number2 = float(input(\"Enter second number :\"))\n",
        "number3 = float(input(\"Enter third number :\"))\n",
        "if (number1 > number2) and (number1 > number3) :\n",
        "  largest = number1\n",
        "  print(\"The largest number:{}\".format(number1))\n",
        "elif (number2> number1) and (number2 > number3) :\n",
        "  largest = number2\n",
        "  print(\"The largest number:{}\".format(number2))\n",
        "else :\n",
        "  print(\"The largest number:{}\".format(number3))"
      ],
      "execution_count": 4,
      "outputs": [
        {
          "output_type": "stream",
          "name": "stdout",
          "text": [
            "Enter first number :18\n",
            "Enter second number :27\n",
            "Enter third number :47\n",
            "The largest number:47.0\n"
          ]
        }
      ]
    },
    {
      "cell_type": "code",
      "metadata": {
        "colab": {
          "base_uri": "https://localhost:8080/"
        },
        "id": "c5P16WTr2IZg",
        "outputId": "75fff5a8-4490-4e9f-d461-555a857c0f1a"
      },
      "source": [
        "score = float(input(\"Enter your score :\"))\n",
        "if score >= 95:\n",
        "  print(\"Your degree is A+\")\n",
        "elif score >= 90 :\n",
        "   print(\"Your degree is A\")\n",
        "elif score >= 85 :\n",
        "   print(\"Your degree is B+\")\n",
        "elif score >= 80 :\n",
        "   print(\"Your degree is B\")\n",
        "else :\n",
        "  print(\"below B or B-\")"
      ],
      "execution_count": 5,
      "outputs": [
        {
          "output_type": "stream",
          "name": "stdout",
          "text": [
            "Enter your score :87\n",
            "Your degree is B+\n"
          ]
        }
      ]
    },
    {
      "cell_type": "code",
      "metadata": {
        "colab": {
          "base_uri": "https://localhost:8080/"
        },
        "id": "7NL_sf6P2IlE",
        "outputId": "a147841a-3f80-4182-ead3-65424108701f"
      },
      "source": [
        "score = float(input(\"Enter your score :\"))\n",
        "if score >= 90:\n",
        "  if score >=95 :\n",
        "    print(\"Your degree is A+\")\n",
        "  else :\n",
        "    print(\"Your degree is A\")\n",
        "elif score >= 80 :\n",
        "  if score >= 85 :\n",
        "    print(\"Your degree is B+\")\n",
        "  else :\n",
        "    print(\"Your degree is B\")\n",
        "else :\n",
        "  print(\"below B or B-\")"
      ],
      "execution_count": 6,
      "outputs": [
        {
          "output_type": "stream",
          "name": "stdout",
          "text": [
            "Enter your score :87\n",
            "Your degree is B+\n"
          ]
        }
      ]
    },
    {
      "cell_type": "code",
      "metadata": {
        "colab": {
          "base_uri": "https://localhost:8080/"
        },
        "id": "P72y8oRy2It6",
        "outputId": "12fc707b-ee26-44fc-95f3-644f0b712a46"
      },
      "source": [
        "condition = 5\n",
        "while condition :\n",
        "  condition -=1\n",
        "  print(condition)"
      ],
      "execution_count": 7,
      "outputs": [
        {
          "output_type": "stream",
          "name": "stdout",
          "text": [
            "4\n",
            "3\n",
            "2\n",
            "1\n",
            "0\n"
          ]
        }
      ]
    },
    {
      "cell_type": "code",
      "metadata": {
        "colab": {
          "base_uri": "https://localhost:8080/"
        },
        "id": "xkYAv9g82I4Q",
        "outputId": "a2e54589-d63f-492e-fbea-97e0c01d80da"
      },
      "source": [
        "number =0\n",
        "while number <= 6 :\n",
        "  print(number)\n",
        "  number +=1\n",
        "print(\"now, number is bigger or equal to 6\")"
      ],
      "execution_count": 8,
      "outputs": [
        {
          "output_type": "stream",
          "name": "stdout",
          "text": [
            "0\n",
            "1\n",
            "2\n",
            "3\n",
            "4\n",
            "5\n",
            "6\n",
            "now, number is bigger or equal to 6\n"
          ]
        }
      ]
    },
    {
      "cell_type": "code",
      "metadata": {
        "colab": {
          "base_uri": "https://localhost:8080/"
        },
        "id": "AQW2QHNs2JCG",
        "outputId": "ae9f6b62-0dcc-4d4d-ce4e-144b05fdebe0"
      },
      "source": [
        "condition = 5\n",
        "while condition :\n",
        "  condition -=2\n",
        "  print(condition)\n",
        "  if condition == -7:\n",
        "    break"
      ],
      "execution_count": 9,
      "outputs": [
        {
          "output_type": "stream",
          "name": "stdout",
          "text": [
            "3\n",
            "1\n",
            "-1\n",
            "-3\n",
            "-5\n",
            "-7\n"
          ]
        }
      ]
    },
    {
      "cell_type": "code",
      "metadata": {
        "colab": {
          "base_uri": "https://localhost:8080/"
        },
        "id": "coySEyEh2JYM",
        "outputId": "749e6e21-f53c-484e-9e79-7fa2b08ae4a9"
      },
      "source": [
        "age = input(\"Please enter your age:\")\n",
        "\n",
        "while not age.isdigit():\n",
        "    \n",
        "    print (\"You made an incorrect entry.\")\n",
        "    \n",
        "    age = input(\"Please enter your age:\")\n",
        "\n",
        "print(\"You entered a valid age !\")"
      ],
      "execution_count": 11,
      "outputs": [
        {
          "output_type": "stream",
          "name": "stdout",
          "text": [
            "Please enter your age:fiften\n",
            "You made an incorrect entry.\n",
            "Please enter your age:15\n",
            "You entered a valid age !\n"
          ]
        }
      ]
    },
    {
      "cell_type": "code",
      "metadata": {
        "colab": {
          "base_uri": "https://localhost:8080/"
        },
        "id": "kz3dSBAhKIHb",
        "outputId": "cadb56f3-d487-4fc4-a401-e2b8b48b7916"
      },
      "source": [
        "my_number = 33\n",
        "while my_number:\n",
        "  your_number = float(input(\"Enter number:\"))\n",
        "  if your_number > my_number:\n",
        "    print(\"little higher\")\n",
        "  elif your_number < my_number:\n",
        "    print(\"little lower\")\n",
        "  else :\n",
        "    print(\"Are you a MINDREADER!!!\")\n",
        "    break"
      ],
      "execution_count": 12,
      "outputs": [
        {
          "output_type": "stream",
          "name": "stdout",
          "text": [
            "Enter number:26\n",
            "little lower\n",
            "Enter number:46\n",
            "little higher\n",
            "Enter number:33\n",
            "Are you a MINDREADER!!!\n"
          ]
        }
      ]
    },
    {
      "cell_type": "code",
      "metadata": {
        "id": "4v1ANqueKJa-"
      },
      "source": [
        "sentence = input(\"Enter the sentence\")\n",
        "word_list = sentence.split()\n",
        "i = 0\n",
        "longest = 0\n",
        "while i < len(word_list) :\n",
        "  if len(word_list[i]) > longest:\n",
        "    longest = len(word_list[i])\n",
        "  i +=1\n",
        "print(\"The length of the longest word :\", longest)"
      ],
      "execution_count": null,
      "outputs": []
    }
  ]
}