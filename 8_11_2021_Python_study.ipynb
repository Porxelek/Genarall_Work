{
  "nbformat": 4,
  "nbformat_minor": 0,
  "metadata": {
    "colab": {
      "name": "8.11.2021 Python study.ipynb",
      "provenance": [],
      "authorship_tag": "ABX9TyP02LW+ngrezwXkLegrkpvk",
      "include_colab_link": true
    },
    "kernelspec": {
      "name": "python3",
      "display_name": "Python 3"
    },
    "language_info": {
      "name": "python"
    }
  },
  "cells": [
    {
      "cell_type": "markdown",
      "metadata": {
        "id": "view-in-github",
        "colab_type": "text"
      },
      "source": [
        "<a href=\"https://colab.research.google.com/github/Porxelek/Porxelek/blob/main/8_11_2021_Python_study.ipynb\" target=\"_parent\"><img src=\"https://colab.research.google.com/assets/colab-badge.svg\" alt=\"Open In Colab\"/></a>"
      ]
    },
    {
      "cell_type": "code",
      "metadata": {
        "id": "gdI9RaLuqkfO"
      },
      "source": [
        "bool_value = False"
      ],
      "execution_count": 1,
      "outputs": []
    },
    {
      "cell_type": "code",
      "metadata": {
        "colab": {
          "base_uri": "https://localhost:8080/"
        },
        "id": "fE9fxsGbwcXZ",
        "outputId": "2bafa3fd-fb77-4c8d-9545-0ccb8d94b89f"
      },
      "source": [
        "if bool_value:\n",
        "  print(\"Yes\")\n",
        "else :\n",
        "  print(\"No\")"
      ],
      "execution_count": 2,
      "outputs": [
        {
          "output_type": "stream",
          "name": "stdout",
          "text": [
            "No\n"
          ]
        }
      ]
    },
    {
      "cell_type": "code",
      "metadata": {
        "colab": {
          "base_uri": "https://localhost:8080/"
        },
        "id": "68Eu9xutw-I5",
        "outputId": "60e29088-c514-4d7c-c138-0079a21bc016"
      },
      "source": [
        "number1 = float(input(\"Enter first number :\"))\n",
        "number2 = float(input(\"Enter second number :\"))\n",
        "number3 = float(input(\"Enter third number :\"))\n",
        "if (number1 > number2) and (number1 > number3) :\n",
        "  largest = number1\n",
        "  print(\"The largest number:{}\".format(number1))\n",
        "elif (number2> number1) and (number2 > numbe2) :\n",
        "  largest = number2\n",
        "  print(\"The largest number:{}\".format(number2))\n",
        "else :\n",
        "  print(\"The largest number:{}\".format(number3))"
      ],
      "execution_count": 5,
      "outputs": [
        {
          "output_type": "stream",
          "name": "stdout",
          "text": [
            "Enter first number :89\n",
            "Enter second number :71\n",
            "Enter third number :90\n",
            "The largest number:90.0\n"
          ]
        }
      ]
    },
    {
      "cell_type": "code",
      "metadata": {
        "id": "kF6jpmxb81eo"
      },
      "source": [
        ""
      ],
      "execution_count": null,
      "outputs": []
    },
    {
      "cell_type": "code",
      "metadata": {
        "colab": {
          "base_uri": "https://localhost:8080/"
        },
        "id": "c5P16WTr2IZg",
        "outputId": "bf306019-904b-4e69-a296-cb0753398082"
      },
      "source": [
        "score = float(input(\"Enter your score :\"))\n",
        "if score >= 95:\n",
        "  print(\"Your degree is A+\")\n",
        "elif score >= 90 :\n",
        "   print(\"Your degree is A\")\n",
        "elif score >= 85 :\n",
        "   print(\"Your degree is B+\")\n",
        "elif score >= 80 :\n",
        "   print(\"Your degree is B\")\n",
        "else :\n",
        "  print(\"below B or B-\")"
      ],
      "execution_count": 8,
      "outputs": [
        {
          "output_type": "stream",
          "name": "stdout",
          "text": [
            "Enter your score :69\n",
            "below B or B-\n"
          ]
        }
      ]
    },
    {
      "cell_type": "code",
      "metadata": {
        "colab": {
          "base_uri": "https://localhost:8080/"
        },
        "id": "7NL_sf6P2IlE",
        "outputId": "784c4522-6a7d-446e-97ea-f440af6e5f28"
      },
      "source": [
        "score = float(input(\"Enter your score :\"))\n",
        "if score >= 90:\n",
        "  if score >=95 :\n",
        "    print(\"Your degree is A+\")\n",
        "  else :\n",
        "    print(\"Your degree is A\")\n",
        "elif score >= 80 :\n",
        "  if score >= 85 :\n",
        "    print(\"Your degree is B+\")\n",
        "  else :\n",
        "    print(\"Your degree is B\")\n",
        "else :\n",
        "  print(\"below B or B-\")"
      ],
      "execution_count": 10,
      "outputs": [
        {
          "output_type": "stream",
          "name": "stdout",
          "text": [
            "Enter your score :96\n",
            "Your degree is A+\n"
          ]
        }
      ]
    },
    {
      "cell_type": "code",
      "metadata": {
        "colab": {
          "base_uri": "https://localhost:8080/"
        },
        "id": "P72y8oRy2It6",
        "outputId": "7eedcaa3-b11a-4025-f4aa-e54f17b9c3b2"
      },
      "source": [
        "condition = 5\n",
        "while condition :\n",
        "  condition -=1\n",
        "  print(condition)"
      ],
      "execution_count": 13,
      "outputs": [
        {
          "output_type": "stream",
          "name": "stdout",
          "text": [
            "4\n",
            "3\n",
            "2\n",
            "1\n",
            "0\n"
          ]
        }
      ]
    },
    {
      "cell_type": "code",
      "metadata": {
        "colab": {
          "base_uri": "https://localhost:8080/"
        },
        "id": "xkYAv9g82I4Q",
        "outputId": "0ba68aa4-8025-442f-fb46-5e22dc9fb491"
      },
      "source": [
        "number =0\n",
        "while number <= 6 :\n",
        "  print(number)\n",
        "  number +=1\n",
        "print(\"now, number is bigger or equal to 6\")"
      ],
      "execution_count": 14,
      "outputs": [
        {
          "output_type": "stream",
          "name": "stdout",
          "text": [
            "0\n",
            "1\n",
            "2\n",
            "3\n",
            "4\n",
            "5\n",
            "6\n",
            "now, number is bigger or equal to 6\n"
          ]
        }
      ]
    },
    {
      "cell_type": "code",
      "metadata": {
        "colab": {
          "base_uri": "https://localhost:8080/"
        },
        "id": "AQW2QHNs2JCG",
        "outputId": "081f8d7c-a068-498d-f210-7183493c2820"
      },
      "source": [
        "condition = 5\n",
        "while condition :\n",
        "  condition -=2\n",
        "  print(condition)\n",
        "  if condition == -7:\n",
        "    break"
      ],
      "execution_count": 15,
      "outputs": [
        {
          "output_type": "stream",
          "name": "stdout",
          "text": [
            "3\n",
            "1\n",
            "-1\n",
            "-3\n",
            "-5\n",
            "-7\n"
          ]
        }
      ]
    },
    {
      "cell_type": "code",
      "metadata": {
        "colab": {
          "base_uri": "https://localhost:8080/"
        },
        "id": "LBn_QpNc2JO8",
        "outputId": "7133e7dd-4269-4db1-b022-9865a2a7e990"
      },
      "source": [
        "\"sixteen\".isdigit()"
      ],
      "execution_count": 16,
      "outputs": [
        {
          "output_type": "execute_result",
          "data": {
            "text/plain": [
              "False"
            ]
          },
          "metadata": {},
          "execution_count": 16
        }
      ]
    },
    {
      "cell_type": "code",
      "metadata": {
        "colab": {
          "base_uri": "https://localhost:8080/"
        },
        "id": "coySEyEh2JYM",
        "outputId": "950660ee-d263-4699-c314-13663fc7633b"
      },
      "source": [
        "yas =input(\"Lütfen yaşınızı girin:\")\n",
        "\n",
        "while not yas.isdigit():\n",
        "    \n",
        "    print (\"Hatalı girdi yaptınız.\")\n",
        "    \n",
        "    yas=input(\"Lütfen yaşınızı girin:\")\n",
        "\n",
        "print(\"Geçerli bir yaş girdiniz !\")"
      ],
      "execution_count": 17,
      "outputs": [
        {
          "output_type": "stream",
          "name": "stdout",
          "text": [
            "Lütfen yaşınızı girin:six\n",
            "Hatalı girdi yaptınız.\n",
            "Lütfen yaşınızı girin:15,5\n",
            "Hatalı girdi yaptınız.\n",
            "Lütfen yaşınızı girin:-5\n",
            "Hatalı girdi yaptınız.\n",
            "Lütfen yaşınızı girin:fiften\n",
            "Hatalı girdi yaptınız.\n",
            "Lütfen yaşınızı girin:27\n",
            "Geçerli bir yaş girdiniz !\n"
          ]
        }
      ]
    },
    {
      "cell_type": "code",
      "metadata": {
        "colab": {
          "base_uri": "https://localhost:8080/"
        },
        "id": "kz3dSBAhKIHb",
        "outputId": "cb6f27d8-ba93-449a-ffd4-4da1eaabf1d7"
      },
      "source": [
        "my_number = 33\n",
        "while my_number:\n",
        "  your_number = float(input(\"Enter number:\"))\n",
        "  if your_number > my_number:\n",
        "    print(\"little higher\")\n",
        "  elif your_number < my_number:\n",
        "    print(\"little lower\")\n",
        "  else :\n",
        "    print(\"Are you a MINDREADER!!!\")\n",
        "    break"
      ],
      "execution_count": 23,
      "outputs": [
        {
          "output_type": "stream",
          "name": "stdout",
          "text": [
            "Enter number:33\n",
            "Are you a MINDREADER!!!\n"
          ]
        }
      ]
    },
    {
      "cell_type": "code",
      "metadata": {
        "colab": {
          "base_uri": "https://localhost:8080/"
        },
        "id": "4v1ANqueKJa-",
        "outputId": "83730152-7fad-4ccc-a515-45223ede1667"
      },
      "source": [
        "sentence = input(\"Enter the sentence\")\n",
        "word_list = sentence.split()\n",
        "i = 0\n",
        "longest = 0\n",
        "while i < len(word_list) :\n",
        "  if len(word_list[i]) > longest:\n",
        "    longest = len(word_list[i])\n",
        "  i +=1\n",
        "print(\"The length of the longest word :\", longest)"
      ],
      "execution_count": 26,
      "outputs": [
        {
          "output_type": "stream",
          "name": "stdout",
          "text": [
            "Enter the sentenceBen sizin gibi köklü örgütün ammına koyayım.\n",
            "The length of the longest word : 8\n"
          ]
        }
      ]
    },
    {
      "cell_type": "code",
      "metadata": {
        "id": "xgn9M3jlKKTT"
      },
      "source": [
        ""
      ],
      "execution_count": null,
      "outputs": []
    }
  ]
}
