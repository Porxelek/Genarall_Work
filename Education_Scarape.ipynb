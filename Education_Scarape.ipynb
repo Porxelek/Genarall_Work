{
  "nbformat": 4,
  "nbformat_minor": 0,
  "metadata": {
    "colab": {
      "provenance": [],
      "authorship_tag": "ABX9TyOhR8OvvNCbkPvdTCA1/2dt",
      "include_colab_link": true
    },
    "kernelspec": {
      "name": "python3",
      "display_name": "Python 3"
    },
    "language_info": {
      "name": "python"
    }
  },
  "cells": [
    {
      "cell_type": "markdown",
      "metadata": {
        "id": "view-in-github",
        "colab_type": "text"
      },
      "source": [
        "<a href=\"https://colab.research.google.com/github/Porxelek/Genarall_Work/blob/main/Education_Scarape.ipynb\" target=\"_parent\"><img src=\"https://colab.research.google.com/assets/colab-badge.svg\" alt=\"Open In Colab\"/></a>"
      ]
    },
    {
      "cell_type": "code",
      "execution_count": null,
      "metadata": {
        "id": "sMCI4mcjbVnV"
      },
      "outputs": [],
      "source": [
        "import pandas as pd"
      ]
    },
    {
      "cell_type": "code",
      "source": [
        "url = \"https://www.draftegitim.com/okul/makedonya/yasam-kosullari/4\"  # Tablo verisinin olduğu web sayfasının URL'si\n",
        "\n",
        "# HTML tablolarını çekmek için pandas'ın read_html() fonksiyonunu kullanalım\n",
        "tables = pd.read_html(url)\n",
        "\n",
        "# İlgilenilen tabloyu seçelim (örneğin, ilk tablo)\n",
        "table = tables\n",
        "\n",
        "# Tablo içindeki verileri kullanalım\n",
        "table"
      ],
      "metadata": {
        "colab": {
          "base_uri": "https://localhost:8080/"
        },
        "id": "c2T1N_42bb-i",
        "outputId": "64d35a06-c182-45f1-e68a-cbc49edfa4ee"
      },
      "execution_count": null,
      "outputs": [
        {
          "output_type": "execute_result",
          "data": {
            "text/plain": [
              "[  Makedonya'da Ulaşım Ücretleri  En Düşük (€)  En Yüksek (€)  Ortalama (€)\n",
              " 0        Şehiriçi Otobüs Bileti           2.0            3.0           2.5\n",
              " 1          Aylık Ulaşım Masrafı          10.0           35.0          22.5,\n",
              "         Makedonya'da Yeme-İçme Masrafları  En Düşük (€)  En Yüksek (€)  \\\n",
              " 0  Ortalama bir restoranda bir öğün yemek           5.0           10.0   \n",
              " 1                                 1 kg et           8.0           15.0   \n",
              " 2                              1 kg meyve           1.0            3.0   \n",
              " 3                              1 kg sebze           1.0            3.0   \n",
              " 4                    Günlük Yemek Masrafı           6.0            8.0   \n",
              " \n",
              "    Ortalama (€)  \n",
              " 0           7.5  \n",
              " 1          11.5  \n",
              " 2           2.0  \n",
              " 3           2.0  \n",
              " 4           7.0  ,\n",
              "   Makedonya'da Konaklama Masrafları  En Düşük (€)  En Yüksek (€)  Ortalama (€)\n",
              " 0          Ortalama Aylık Ev Kirası         300.0          900.0         600.0,\n",
              "         Makedonya'da Sosyal Yaşam Maliyetleri  En Düşük (€)  En Yüksek (€)  \\\n",
              " 0  Ortalama aylık sosyal etkinlik harcamaları          50.0           60.0   \n",
              " \n",
              "    Ortalama (€)  \n",
              " 0          55.0  ]"
            ]
          },
          "metadata": {},
          "execution_count": 49
        }
      ]
    },
    {
      "cell_type": "code",
      "source": [
        "table = table[['Bölüm Adı', 'Eğitim Dili', 'Süre', 'Fiyat']]"
      ],
      "metadata": {
        "id": "jFoHllyYbhBB"
      },
      "execution_count": null,
      "outputs": []
    },
    {
      "cell_type": "code",
      "source": [
        "table.to_excel('ÜMÜ Bölümler.xlsx', index=False)"
      ],
      "metadata": {
        "id": "xOIf74gObnTY"
      },
      "execution_count": null,
      "outputs": []
    },
    {
      "cell_type": "code",
      "source": [
        "import requests\n",
        "from bs4 import BeautifulSoup\n",
        "\n",
        "url = \"https://www.draftegitim.com/okul/bitola-manastir-universitesi/genel-bilgiler/82\"\n",
        "\n",
        "response = requests.get(url)\n",
        "\n",
        "\n",
        "soup = BeautifulSoup(response.content, \"html.parser\")\n",
        "\n",
        "# Verilerin bulunduğu etiketleri ve sınıfları inceleyerek çekme işlemini gerçekleştirin\n",
        "data_elements = soup.find_all(\"div\", class_=\"col-12 col-md-9\")\n",
        "\n",
        "for element in data_elements:\n",
        "  # Verileri yazdırabilir veya işleyebilirsiniz\n",
        "  print(element)\n",
        "#else:\n",
        "#    print(\"Hata: İstek başarısız oldu, durum kodu:\", response.status_code)"
      ],
      "metadata": {
        "colab": {
          "base_uri": "https://localhost:8080/"
        },
        "id": "glbURFP7b5ig",
        "outputId": "c7399933-4975-4e2d-a740-bae21cc12ca3"
      },
      "execution_count": null,
      "outputs": [
        {
          "output_type": "stream",
          "name": "stdout",
          "text": [
            "<div class=\"col-12 col-md-9\" id=\"scrollContent\">\n",
            "<div class=\"page-content\">\n",
            "<h5 class=\"school-info-title\">Genel Bilgiler</h5>\n",
            "<div class=\"p-4\">\n",
            "<div class=\"row\">\n",
            "<div class=\"col-12\">\n",
            "</div>\n",
            "<div class=\"col-12\">\n",
            "<div class=\"row px-2 my-3 pb-3\">\n",
            "<div class=\"col-3 col-md px-1 mb-3 mb-md-0\">\n",
            "<div class=\"school-gallery-thumb\">\n",
            "<a data-gallery=\"gallery\" data-toggle=\"lightbox\" href=\"content/school_photo/f1354a74419fca6e0e926289405e35be.jpg\">\n",
            "<img alt=\"\" class=\"img-fluid\" src=\"content/school_photo/cropped/f1354a74419fca6e0e926289405e35be.jpg\"/>\n",
            "</a>\n",
            "</div>\n",
            "</div>\n",
            "<div class=\"col-3 col-md px-1 mb-3 mb-md-0\">\n",
            "<div class=\"school-gallery-thumb\">\n",
            "<a data-gallery=\"gallery\" data-toggle=\"lightbox\" href=\"content/school_photo/bfa03b8a1b6164a94ca5cda55a44503b.jpg\">\n",
            "<img alt=\"\" class=\"img-fluid\" src=\"content/school_photo/cropped/bfa03b8a1b6164a94ca5cda55a44503b.jpg\"/>\n",
            "</a>\n",
            "</div>\n",
            "</div>\n",
            "<div class=\"col col-md px-1 mb-3 mb-md-0\">\n",
            "<div class=\"school-gallery-all d-flex align-items-center justify-content-center\">\n",
            "<a class=\"stretched-link\" href=\"okul/bitola-manastir-universitesi/fotograf-galerisi/82\">\n",
            "<i aria-hidden=\"true\" class=\"fas fa-chevron-right\"></i>\n",
            "<span class=\"d-none d-md-block\">Fotoğraf Galerisi</span>\n",
            "<span class=\"d-md-none d-block\">Fotoğraflar</span>\n",
            "</a>\n",
            "</div>\n",
            "</div>\n",
            "</div>\n",
            "</div>\n",
            "<div class=\"col-12 text-justify\">\n",
            "<p>25 Nisan 1979 yılında Makedonya'da kurulan St.Kliment Ohridski Üniversitesi, bir diğer adı ile Bitola Manastır Üniversitesi, bir devlet üniversitesidir. Makedonya’nın ikinci büyük devlet üniversitesi olan St.Kliment Ohridski Üniversitesi UKLO kısaltması ile bilinir. Ana binası Güney batı Makedonya’da bulunan tarihi Bitola Manastır şehrinde olup, bölgedeki yüksek eğitim alanındaki en önemli kurumlardan bir tanesidir.</p>\n",
            "<p><span style=\"color:#e67e22\"><strong>Üniversite Bilgisi</strong></span><br/>\r\n",
            "10 fakülte, 11 meslek yüksek okulu ile 51'den fazla lisans çalışma programları ve 41 lisansüstü eğitim programı ile yüksek eğitim birimine hizmet vermektedir. Üniversite, yüksek eğitim ve bilimsel birim olarak Manastır, Pirlepe, Ohri, Üsküp, Kichevo, Köprülü gibi dağınık birçok şehirde fakülteleri bulunmaktadır. Manastır Üniversitesi, yüksek öğretimde eğitim için Avrupa Kredi Transfer Sistemi'ne (ECTS) dayanan kurallara göre akademik ve profesyonel eğitim programları düzenlemektedir. Üniversite Makedonca ağırlıklı, ek ders İngilizce ile kaliteli eğitim fırsatı sunuyor. </p>\n",
            "<p><span style=\"color:#e67e22\"><strong>Dil Yeterlilik Diploması</strong></span><br/>\r\n",
            "Uluslararası geçerliliğe sahip Avrupa eğitimi ile öğrencilere, Hazırlık Okulu’nda deneyimli yerli eğitmenlerin eşliğinde, yoğun bir dil programı uygulanıyor. Programı başarıyla geçen öğrenciler üniversitenin Dil Yeterlilik diplomasını da almaya hak kazanıyor. Üniversitenin Türkiye’de; Gazi Üniversitesi (Ankara), Süleyman Demirel Üniversitesi (Isparta), Trakya Üniversitesi (Edirne), Namık Kemal Üniversitesi ( Tekirdağ), On sekiz Mart Üniversitesi (Çanakkale), Celal Bayar Üniversitesi (Manisa), Ankara Üniversitesi (Ankara), İstanbul Üniversitesi (İstanbul) gibi önemli üniversiteler ile işbirliği bulunmaktadır.</p>\n",
            "<p><span style=\"color:#e67e22\"><strong>Üniversitenin Laboratuvarları</strong></span><br/>\r\n",
            "-Tıbbi Laboratuvarı<br/>\r\n",
            "-Mikrobiyoloji Laboratuvarı<br/>\r\n",
            "-Hijyen Laboratuvarı<br/>\r\n",
            "-Biyokimya Laboratuvarı</p>\n",
            "<a class=\"btn btn-ob my-3\" href=\"okul/bitola-manastir-universitesi/bolumler/82\">ÜNİVERSİTEYİ KEŞFETMEYE BAŞLA <i aria-hidden=\"true\" class=\"fas fa-chevron-right ml-2\"></i></a>\n",
            "</div>\n",
            "</div>\n",
            "</div>\n",
            "</div>\n",
            "<div class=\"row px-0 px-md-3 my-5 m-slide\">\n",
            "<div class=\"col px-1\">\n",
            "<div class=\"school-info-icon\">\n",
            "<img src=\"assets/img/school_icon/icon-1.svg\"/>\n",
            "<a class=\"stretched-link\" href=\"#\" target=\"_blank\">\n",
            "<h6>Akıllı Tercih</h6>\n",
            "<span>Robotunu Deneyin</span>\n",
            "</a>\n",
            "</div>\n",
            "</div>\n",
            "<div class=\"col px-1\">\n",
            "<div class=\"school-info-icon\">\n",
            "<img src=\"assets/img/school_icon/icon-2.svg\"/>\n",
            "<a class=\"stretched-link\" onclick=\"askgraduated();\" target=\"_blank\">\n",
            "<h6>Mezun</h6>\n",
            "<span>Öğrencilere Sorun</span>\n",
            "</a>\n",
            "</div>\n",
            "</div>\n",
            "<div class=\"col px-1\">\n",
            "<div class=\"school-info-icon\">\n",
            "<img src=\"assets/img/school_icon/icon-4.svg\"/>\n",
            "<a class=\"stretched-link\" href=\"draft-egitim/basari-oykuleri\" target=\"_blank\">\n",
            "<h6>Başarı</h6>\n",
            "<span>Öykülerini Okuyun</span>\n",
            "</a>\n",
            "</div>\n",
            "</div>\n",
            "<div class=\"col px-1\">\n",
            "<div class=\"school-info-icon\">\n",
            "<img src=\"assets/img/school_icon/icon-5.svg\"/>\n",
            "<a class=\"stretched-link\" onclick=\"booking();\">\n",
            "<h6>Ücretsiz</h6>\n",
            "<span>Randevu Alın</span>\n",
            "</a>\n",
            "</div>\n",
            "</div>\n",
            "<div class=\"col px-1\">\n",
            "<div class=\"school-contact-icon\">\n",
            "<i aria-hidden=\"true\" class=\"fas fa-phone-volume top-phone-icon\"></i>\n",
            "<a class=\"stretched-link\" onclick=\"helpPhone();\" target=\"_blank\">\n",
            "<h6>Yardıma mı</h6>\n",
            "<span>İhtiyacınız Var?</span>\n",
            "</a>\n",
            "</div>\n",
            "</div>\n",
            "</div><div aria-labelledby=\"videoModal\" class=\"modal fade\" id=\"youtubeModal\" role=\"dialog\" tabindex=\"-1\">\n",
            "<div class=\"modal-dialog modal-lg\" role=\"document\">\n",
            "<div class=\"modal-content r-border\">\n",
            "<div class=\"modal-header\">\n",
            "</div>\n",
            "<div class=\"modal-body\">\n",
            "<div id=\"videoModalContainer\"></div>\n",
            "</div>\n",
            "<div class=\"modal-footer justify-content-center\">\n",
            "<a aria-label=\"close\" class=\"btn btn-r font-weight-700\" data-dismiss=\"modal\" id=\"CloseModalButton\"> <i class=\"fas fa-times mr-2\"></i> KAPAT</a>\n",
            "</div>\n",
            "</div>\n",
            "</div>\n",
            "</div>\n",
            "</div>\n"
          ]
        }
      ]
    },
    {
      "cell_type": "code",
      "source": [
        "!pip install python-docx\n",
        "\n"
      ],
      "metadata": {
        "colab": {
          "base_uri": "https://localhost:8080/"
        },
        "id": "UBdUff0exMVe",
        "outputId": "9b234edf-5150-4567-fb7b-78cd05f8af6f"
      },
      "execution_count": null,
      "outputs": [
        {
          "output_type": "stream",
          "name": "stdout",
          "text": [
            "Looking in indexes: https://pypi.org/simple, https://us-python.pkg.dev/colab-wheels/public/simple/\n",
            "Collecting python-docx\n",
            "  Downloading python-docx-0.8.11.tar.gz (5.6 MB)\n",
            "\u001b[2K     \u001b[90m━━━━━━━━━━━━━━━━━━━━━━━━━━━━━━━━━━━━━━━━\u001b[0m \u001b[32m5.6/5.6 MB\u001b[0m \u001b[31m40.9 MB/s\u001b[0m eta \u001b[36m0:00:00\u001b[0m\n",
            "\u001b[?25h  Preparing metadata (setup.py) ... \u001b[?25l\u001b[?25hdone\n",
            "Requirement already satisfied: lxml>=2.3.2 in /usr/local/lib/python3.10/dist-packages (from python-docx) (4.9.2)\n",
            "Building wheels for collected packages: python-docx\n",
            "  Building wheel for python-docx (setup.py) ... \u001b[?25l\u001b[?25hdone\n",
            "  Created wheel for python-docx: filename=python_docx-0.8.11-py3-none-any.whl size=184491 sha256=9cbdb01fa2e5c4f461f40154175478eabc89857c1ca736842f606f83a6b349c9\n",
            "  Stored in directory: /root/.cache/pip/wheels/80/27/06/837436d4c3bd989b957a91679966f207bfd71d358d63a8194d\n",
            "Successfully built python-docx\n",
            "Installing collected packages: python-docx\n",
            "Successfully installed python-docx-0.8.11\n"
          ]
        }
      ]
    },
    {
      "cell_type": "code",
      "source": [
        "from docx import Document"
      ],
      "metadata": {
        "id": "5KWcQD840LAw"
      },
      "execution_count": null,
      "outputs": []
    },
    {
      "cell_type": "code",
      "source": [
        "element.get_text()"
      ],
      "metadata": {
        "colab": {
          "base_uri": "https://localhost:8080/",
          "height": 174
        },
        "id": "eZe4xULgwt_d",
        "outputId": "135bdadb-8d7a-415a-da26-a1c7ca40db19"
      },
      "execution_count": null,
      "outputs": [
        {
          "output_type": "execute_result",
          "data": {
            "text/plain": [
              "\"\\nMakedonya Yaşam Koşulları\\n\\n\\n\\n\\n\\n\\n\\nMezun Öğrencilere Sorun. \\nDraft Eğitim ile Makedonya'da eğitim alan ve mezun olan öğrencilere, tercih ettiğiniz üniversite, bölüm ve Makedonya'da yaşam hakkında görüşme yapabilirsiniz.\\n\\nGÖRÜŞME TALEBİ İÇİN TIKLAYINIZ\\n\\n\\n\\n\\nMakedonya’da eğitim almayı, yaşamayı ve gezmeyi düşünenler için Makedonya yaşam masrafları, ürün fiyatları üzerinden en düşük, ortalama ve en yüksek ücretler ile detaylı bir şekilde listelenmiştir. \\n\\nUlaşım\\n\\n\\nMakedonya'da ulaşım için tercih edilen araçların başında otobüs gelmektedir. Diğer Avrupa ülkelerinde olduğu gibi demiryolları ulaşımı gelişmiş değildir ancak otobüs ile rahatlıkla ulaşım sağlayabilirsiniz. Makedonya nispeten küçük bir ülke olduğundan dolayı şehir içi ve şehir dışı ulaşımları oldukça rahat ve kolaydır. Ayrıca otobüs ulaşımlarında bilet seçeneğinin yanında para ödemesi de bulunmaktadır.\\xa0Eğer eğitim aldığınız yerin yakınlarında bir yerde konaklıyorsanız bisiklet seçeneği ile de ulaşım sağlamanız mümkündür. Bisiklet kullanımı ile birlikte aylık ulaşım masraflarınız oldukça düşecektir diyebiliriz.\\xa0\\n\\n\\n\\n\\n\\nMakedonya'da Ulaşım Ücretleri\\nEn Düşük (€)\\nEn Yüksek (€)\\nOrtalama (€)\\n\\n\\n\\n\\nŞehiriçi Otobüs Bileti\\n2.00\\n3.00\\n\\n\\t\\t\\t\\t\\t\\t\\t\\t\\t\\t2.50\\t\\t\\t\\t\\t\\t\\t\\t\\t\\n\\n\\nAylık Ulaşım Masrafı\\n10.00\\n35.00\\n\\n\\t\\t\\t\\t\\t\\t\\t\\t\\t\\t22.50\\t\\t\\t\\t\\t\\t\\t\\t\\t\\n\\n\\n\\n\\n\\nYeme-İçme\\n\\n\\nTürk mutfağına oldukça yakın lezzetleri ile göz dolduran Makedon mutfağı, gezginler ve öğrenciler için damak tadına uygun pek çok seçeneği bünyesinde barındırmaktadır. Pleskavitsa; başkent Üsküp’e ait lezzetlerden biri olup yağlı kıymadan yapılmaktadır. Yoğurulup hazırlandıktan sonra, soğanla beraber ızgarada kızartılarak servis edilir. Cevapi; küp küp doğranmış soğan, biber turşusu ve ekmekle servis edilen başka bir Makedonya lezzetidir. Baharatsız ve ekmeksiz olarak hazırlanır ve ızgarada pişirilir. Bizdeki krem karamele benzeyen ve süt, yumurta ve şekerin fırında uzun süre pişmesiyle elde edilen, muhallebi lezzetinde bir tatlı olan Kaymaçina ise Makedonya mutfağına özgü tatlılardan biridir.\\nÜlkedeki restoranlarda yaklaşık 30-35 Türk Lirası'na karnınızı rahatça doyurabilirsiniz. Buradaki kafeler ve restoranlar genellikle öğrenci dostu olup birbirinden güzel yemeği de bünyesinde barındırmaktadır. Eğer market alışverişinden hoşlanıyor ve yemeğinizi kendiniz pişirmeyi seviyorsanız pek çok uygun seçenekle de karşılaşmanız mümkündür. Örneğin ülkede 1 kg etin kilosu yaklaşık 60 Türk Lirası civarındadır. Meyve ve sebze fiyatları ise en fazla 15 Lira civarındadır.\\xa0\\n\\n\\n\\n\\n\\nMakedonya'da Yeme-İçme Masrafları\\nEn Düşük (€)\\nEn Yüksek (€)\\nOrtalama (€)\\n\\n\\n\\n\\nOrtalama bir restoranda bir öğün yemek\\n5.00\\n10.00\\n\\n\\t\\t\\t\\t\\t\\t\\t\\t\\t\\t7.50\\t\\t\\t\\t\\t\\t\\t\\t\\t\\n\\n\\n1 kg et\\n8.00\\n15.00\\n\\n\\t\\t\\t\\t\\t\\t\\t\\t\\t\\t11.50\\t\\t\\t\\t\\t\\t\\t\\t\\t\\n\\n\\n1 kg meyve\\n1.00\\n3.00\\n\\n\\t\\t\\t\\t\\t\\t\\t\\t\\t\\t2.00\\t\\t\\t\\t\\t\\t\\t\\t\\t\\n\\n\\n1 kg sebze\\n1.00\\n3.00\\n\\n\\t\\t\\t\\t\\t\\t\\t\\t\\t\\t2.00\\t\\t\\t\\t\\t\\t\\t\\t\\t\\n\\n\\nGünlük Yemek Masrafı\\n6.00\\n8.00\\n\\n\\t\\t\\t\\t\\t\\t\\t\\t\\t\\t7.00\\t\\t\\t\\t\\t\\t\\t\\t\\t\\n\\n\\n\\n\\n\\nKonaklama\\n\\n\\nMakedonya'da diğer Balkan şehirlerinde olduğu gibi her bütçeye hitap eden çeşitli konaklama imkânları bulunmaktadır. Örneğin; başkent Üsküp'te önemli noktalar birbirine yürüme mesafesindedir ve dolayısıyla şehirde konaklamak oldukça rahattır. Eğitim amaçlı Makedonya'ya gelen öğrenciler için kiralık odalar ve apartman daireleri gibi seçenekler fazladır. Aynı zamanda öğrenciler öğrenci yurtlarını da konaklama için tercih edebilirler. Ancak ev kiraları özellikle ülkemizle kıyaslandığında çok düşük olduğu için ülkemizden Makedonya'ya üniversite okumak için giden öğrenciler genellikle ev kiralama seçeneklerini tercih etmektedir. Ev kiraları aylık 1200 ila 2000 Türk Lirası arasında değişmektedir.\\n\\n\\n\\n\\n\\nMakedonya'da Konaklama Masrafları\\nEn Düşük (€)\\nEn Yüksek (€)\\nOrtalama (€)\\n\\n\\n\\n\\nOrtalama Aylık Ev Kirası\\n300.00\\n900.00\\n\\n\\t\\t\\t\\t\\t\\t\\t\\t\\t\\t600.00\\t\\t\\t\\t\\t\\t\\t\\t\\t\\n\\n\\n\\n\\n\\nSosyal Yaşam\\n\\n\\nMakedonya öğrenciler için pek çok sosyal etkinliğe, müzeye, tarihi yapıya ve festivale de ev sahipliği yapmaktadır. Başkent Üsküp, gezip görmeyi sevenler için de pek çok seçenek sunmaktadır. Üsküp Kalesi, tüm şehri panoramik izleyebileceğiniz önemli noktalardan biridir. Ayrıca Vardar Nehri’nin üzerine kurulmuş olan, yeni ve eski Üsküp’ü birbirine bağlayan Taş Köprü ve çevresi de kesinlikle görülmeye değer yerlerden biridir. Üsküp’te dikkatinizi çekecek noktalardan biri, diğer şehirlere nazaran pek çok heykelin varlığı olacaktır. Özellikle 2014’te Üsküp’te başlatılan mimari projesi kapsamında pek çok heykel yapılmış olup bunlardan en büyükleri ve ünlüleri, büyük meydanda yer alan Büyük İskender Heykeli ve II. Philip heykelidir.\\nÜsküp haricinde diğer Makedonya şehirlerinde de pek çok seçenek bulunmaktadır. Örneğin; İştip’te her yılın Kasım ayında Aco Sopov Kültür Merkezi’nde MakFest adında bir pop müzik festivali düzenlenmektedir. Ayrıca 1987’den beri 1 Temmuz’dan 1 Ağustos’a kadar İştip Kültür Yazı etkinlikleri düzenlenmektedir. Şehirde bulunan İştip Ulusal Müzesi, gezilip görülmeye değer kültürel yapılardan bir tanesidir.\\nUluslararası Vizyon Üniversitesi'ne ev sahipliği yapan Gostivar şehri de sosyal etkinlikler açısından göz dolduran şehirlerin başında gelmektedir. Mavrovo Ulusal Parkı 4 mevsim boyunca misafirlerini ağırlamaktadır, ancak bu park en çok kış mevsiminde rağbet görmektedir. Özellikle parkın içerisinde bulunan Zara Lazarevski Kayak Merkezi turistler tarafından oldukça ilgi görmektedir. Mavrovo bölgesi ise zaman zaman kış sporları turnuvalarına ev sahipliği yapmaktadır.\\n\\n\\n\\n\\n\\nMakedonya'da Sosyal Yaşam Maliyetleri\\nEn Düşük (€)\\nEn Yüksek (€)\\nOrtalama (€)\\n\\n\\n\\n\\nOrtalama aylık sosyal etkinlik harcamaları\\n50.00\\n60.00\\n\\n\\t\\t\\t\\t\\t\\t\\t\\t\\t\\t55.00\\t\\t\\t\\t\\t\\t\\t\\t\\t\\n\\n\\n\\n\\n\\n\""
            ],
            "application/vnd.google.colaboratory.intrinsic+json": {
              "type": "string"
            }
          },
          "metadata": {},
          "execution_count": 54
        }
      ]
    },
    {
      "cell_type": "code",
      "source": [
        "\n",
        "url = \"https://www.draftegitim.com/okul/makedonya/yasam-kosullari/4\"\n",
        "\n",
        "response = requests.get(url)\n",
        "\n",
        "if response.status_code == 200:\n",
        "    soup = BeautifulSoup(response.content, \"html.parser\")\n",
        "\n",
        "    data_elements = soup.find_all(\"div\", class_=\"page-content bottom-info\")\n",
        "\n",
        "    # Word belgesi oluşturma\n",
        "    document = Document()\n",
        "\n",
        "    for element in data_elements:\n",
        "        # Veriyi Word belgesine ekleyin\n",
        "        document.add_paragraph(element.get_text())\n",
        "\n",
        "    # Word belgesini kaydetme\n",
        "    document.save(\"veriler.docx\")"
      ],
      "metadata": {
        "id": "ByZEPji2wTg-"
      },
      "execution_count": null,
      "outputs": []
    },
    {
      "cell_type": "code",
      "source": [
        "\n",
        "url = \"https://www.draftegitim.com/okul/makedonya/yasam-kosullari/4\"\n",
        "\n",
        "response = requests.get(url)\n",
        "\n",
        "if response.status_code == 200:\n",
        "    soup = BeautifulSoup(response.content, \"html.parser\")\n",
        "\n",
        "    data_elements = soup.find_all(\"div\", class_=\"page-content bottom-info\")\n",
        "\n",
        "    # Verileri bir liste olarak toplama\n",
        "    data_list = [element.get_text() for element in data_elements]\n",
        "\n",
        "    # Listeyi DataFrame'e dönüştürme\n",
        "    df = pd.DataFrame(data_list, columns=[\"Veri\"])\n",
        "\n",
        "    # DataFrame'i Excel dosyasına kaydetme\n",
        "    df.to_excel(\"deneme.xlsx\", index=False)"
      ],
      "metadata": {
        "id": "d64DJBO6u16N"
      },
      "execution_count": null,
      "outputs": []
    },
    {
      "cell_type": "code",
      "source": [
        "import requests\n",
        "from bs4 import BeautifulSoup\n",
        "import urllib.request\n",
        "\n",
        "url = \"https://www.draftegitim.com/okul/bitola-manastir-universitesi/genel-bilgiler/82\"\n",
        "\n",
        "response = requests.get(url)\n",
        "\n",
        "if response.status_code == 200:\n",
        "    soup = BeautifulSoup(response.content, \"html.parser\")\n",
        "\n",
        "    # Yazıları çekme\n",
        "    text_elements = soup.find_all(\"div\", class_=\"page-content\")\n",
        "    for element in text_elements:\n",
        "        print(element.get_text())\n",
        "\n",
        "    # Fotoğrafları çekme\n",
        "    img_elements = soup.find_all(\"div\", class_=\"img-fluid\")\n",
        "    for i, element in enumerate(img_elements):\n",
        "        img_url = element[\"href\"]\n",
        "        filename = f\"image_{i}.jpg\"\n",
        "        urllib.request.urlretrieve(img_url, filename)\n",
        "        print(\"Fotoğraf indirildi:\", filename)\n",
        "else:\n",
        "    print(\"Hata: İstek başarısız oldu, durum kodu:\", response.status_code)"
      ],
      "metadata": {
        "colab": {
          "base_uri": "https://localhost:8080/"
        },
        "id": "oOZVRD3SQvkJ",
        "outputId": "ffc2f09c-47e1-4f08-ac2e-4d14ddfaf473"
      },
      "execution_count": null,
      "outputs": [
        {
          "output_type": "stream",
          "name": "stdout",
          "text": [
            "\n",
            "Genel Bilgiler\n",
            "\n",
            "\n",
            "\n",
            "\n",
            "\n",
            "\n",
            "\n",
            "\n",
            "\n",
            "\n",
            "\n",
            "\n",
            "\n",
            "\n",
            "\n",
            "\n",
            "\n",
            "\n",
            "\n",
            "\n",
            "\n",
            "\n",
            "\n",
            "\n",
            "Fotoğraf Galerisi\n",
            "Fotoğraflar\n",
            "\n",
            "\n",
            "\n",
            "\n",
            "\n",
            "\n",
            "25 Nisan 1979 yılında Makedonya'da kurulan St.Kliment Ohridski Üniversitesi, bir diğer adı ile Bitola Manastır Üniversitesi, bir devlet üniversitesidir. Makedonya’nın ikinci büyük devlet üniversitesi olan St.Kliment Ohridski Üniversitesi UKLO kısaltması ile bilinir. Ana binası Güney batı Makedonya’da bulunan tarihi Bitola Manastır şehrinde olup, bölgedeki yüksek eğitim alanındaki en önemli kurumlardan bir tanesidir.\n",
            "Üniversite Bilgisi\r\n",
            "10 fakülte, 11 meslek yüksek okulu ile 51'den fazla lisans çalışma programları ve 41 lisansüstü eğitim programı ile yüksek eğitim birimine hizmet vermektedir. Üniversite, yüksek eğitim ve bilimsel birim olarak Manastır, Pirlepe, Ohri, Üsküp, Kichevo, Köprülü gibi dağınık birçok şehirde fakülteleri bulunmaktadır. Manastır Üniversitesi, yüksek öğretimde eğitim için Avrupa Kredi Transfer Sistemi'ne (ECTS) dayanan kurallara göre akademik ve profesyonel eğitim programları düzenlemektedir. Üniversite Makedonca ağırlıklı, ek ders İngilizce ile kaliteli eğitim fırsatı sunuyor. \n",
            "Dil Yeterlilik Diploması\r\n",
            "Uluslararası geçerliliğe sahip Avrupa eğitimi ile öğrencilere, Hazırlık Okulu’nda deneyimli yerli eğitmenlerin eşliğinde, yoğun bir dil programı uygulanıyor. Programı başarıyla geçen öğrenciler üniversitenin Dil Yeterlilik diplomasını da almaya hak kazanıyor. Üniversitenin Türkiye’de; Gazi Üniversitesi (Ankara), Süleyman Demirel Üniversitesi (Isparta), Trakya Üniversitesi (Edirne), Namık Kemal Üniversitesi ( Tekirdağ), On sekiz Mart Üniversitesi (Çanakkale), Celal Bayar Üniversitesi (Manisa), Ankara Üniversitesi (Ankara), İstanbul Üniversitesi (İstanbul) gibi önemli üniversiteler ile işbirliği bulunmaktadır.\n",
            "Üniversitenin Laboratuvarları\r\n",
            "-Tıbbi Laboratuvarı\r\n",
            "-Mikrobiyoloji Laboratuvarı\r\n",
            "-Hijyen Laboratuvarı\r\n",
            "-Biyokimya Laboratuvarı\n",
            "ÜNİVERSİTEYİ KEŞFETMEYE BAŞLA \n",
            "\n",
            "\n",
            "\n",
            "\n"
          ]
        }
      ]
    },
    {
      "cell_type": "code",
      "source": [
        "document.save(\"veriler.docx\")"
      ],
      "metadata": {
        "id": "Sf7AnhS8WFjZ"
      },
      "execution_count": null,
      "outputs": []
    }
  ]
}