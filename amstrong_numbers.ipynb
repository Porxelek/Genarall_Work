{
 "cells": [
  {
   "cell_type": "code",
   "execution_count": 4,
   "metadata": {},
   "outputs": [
    {
     "name": "stdout",
     "output_type": "stream",
     "text": [
      "This is not an armstrong number\n"
     ]
    }
   ],
   "source": [
    "number = input(\"Enter your number\") \n",
    "if number.isdigit() and int(number) > 0:\n",
    "    length = len(number)\n",
    "    sum = 0\n",
    "    for integer in number:\n",
    "        integer = int(integer)\n",
    "        sum += integer ** length\n",
    "    if int(number) == sum:\n",
    "        print(\"This is an armstrong number\")\n",
    "    else:\n",
    "        print(\"This is not an armstrong number\")\n",
    "else:\n",
    "    print(\"Please enter a valid number\")"
   ]
  }
 ],
 "metadata": {
  "interpreter": {
   "hash": "859347ca2ac16625693f1f760c19e6c5a3eb51a3822ab615f2cda49045fe63ea"
  },
  "kernelspec": {
   "display_name": "Python 3.9.9 64-bit (windows store)",
   "language": "python",
   "name": "python3"
  },
  "language_info": {
   "codemirror_mode": {
    "name": "ipython",
    "version": 3
   },
   "file_extension": ".py",
   "mimetype": "text/x-python",
   "name": "python",
   "nbconvert_exporter": "python",
   "pygments_lexer": "ipython3",
   "version": "3.9.9"
  },
  "orig_nbformat": 4
 },
 "nbformat": 4,
 "nbformat_minor": 2
}
