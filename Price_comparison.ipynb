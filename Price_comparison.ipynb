{
  "nbformat": 4,
  "nbformat_minor": 0,
  "metadata": {
    "colab": {
      "provenance": [],
      "authorship_tag": "ABX9TyMPmCd8qMzjEqBQ65Tr8Xsd",
      "include_colab_link": true
    },
    "kernelspec": {
      "name": "python3",
      "display_name": "Python 3"
    },
    "language_info": {
      "name": "python"
    }
  },
  "cells": [
    {
      "cell_type": "markdown",
      "metadata": {
        "id": "view-in-github",
        "colab_type": "text"
      },
      "source": [
        "<a href=\"https://colab.research.google.com/github/Porxelek/Genarall_Work/blob/main/Price_comparison.ipynb\" target=\"_parent\"><img src=\"https://colab.research.google.com/assets/colab-badge.svg\" alt=\"Open In Colab\"/></a>"
      ]
    },
    {
      "cell_type": "code",
      "source": [
        "import pandas as pd"
      ],
      "metadata": {
        "id": "HYAJDUr3hshE"
      },
      "execution_count": 1,
      "outputs": []
    },
    {
      "cell_type": "code",
      "source": [
        "df = pd.read_excel('/content/Price data.xlsx')\n",
        "df2 = pd.read_excel('/content/Price data 2.xlsx')"
      ],
      "metadata": {
        "colab": {
          "base_uri": "https://localhost:8080/"
        },
        "id": "WvG1TIkIhvWr",
        "outputId": "bd3cbb7f-ecd4-45c9-ce67-54603ae115de"
      },
      "execution_count": 2,
      "outputs": [
        {
          "output_type": "stream",
          "name": "stderr",
          "text": [
            "/usr/local/lib/python3.10/dist-packages/openpyxl/styles/stylesheet.py:226: UserWarning: Workbook contains no default style, apply openpyxl's default\n",
            "  warn(\"Workbook contains no default style, apply openpyxl's default\")\n"
          ]
        }
      ]
    },
    {
      "cell_type": "code",
      "source": [
        "df.sample()"
      ],
      "metadata": {
        "colab": {
          "base_uri": "https://localhost:8080/",
          "height": 348
        },
        "id": "pbuoLWvLiArM",
        "outputId": "0e468dec-4135-47fc-e011-58609552c8bb"
      },
      "execution_count": 8,
      "outputs": [
        {
          "output_type": "execute_result",
          "data": {
            "text/plain": [
              "                        Product Name  \\\n",
              "41  2022新款韩版时尚单肩手提大包简约百搭大容量托特包高级感包包女   \n",
              "\n",
              "                                     Long Description  \\\n",
              "41  <div id=\"offer-template-0\"></div><div> </div>\\...   \n",
              "\n",
              "                                    Short Description  \\\n",
              "41  箱包大小:中\\n里料质地:涤纶\\n图案:纯色\\n货源类别:现货\\n颜色:棋盘白色/棋盘黑色/...   \n",
              "\n",
              "                                      Supplier Source Variation Name1  \\\n",
              "41  https://detail.1688.com/offer/675907506764.htm...              颜色   \n",
              "\n",
              "   Option for Variation1 Variation Name2 Option for Variation2  \\\n",
              "41                 石头纹黑色             NaN                   NaN   \n",
              "\n",
              "    Variation Name3  Option for Variation3  ...  \\\n",
              "41              NaN                    NaN  ...   \n",
              "\n",
              "                                          Item image9  \\\n",
              "41  https://cbu01.alicdn.com/img/ibank/O1CN01ZVBo7...   \n",
              "\n",
              "                                       Variant Image1 Variant Image2  \\\n",
              "41  https://cbu01.alicdn.com/img/ibank/O1CN01m025x...            NaN   \n",
              "\n",
              "    Variant Image3  Variant Image4  Variant Image5  Variant Image6  \\\n",
              "41             NaN             NaN             NaN             NaN   \n",
              "\n",
              "    Variant Image7  Variant Image8 Variant Image9  \n",
              "41             NaN             NaN            NaN  \n",
              "\n",
              "[1 rows x 37 columns]"
            ],
            "text/html": [
              "\n",
              "  <div id=\"df-b8b9f159-1239-47e3-af14-cce384d88f81\">\n",
              "    <div class=\"colab-df-container\">\n",
              "      <div>\n",
              "<style scoped>\n",
              "    .dataframe tbody tr th:only-of-type {\n",
              "        vertical-align: middle;\n",
              "    }\n",
              "\n",
              "    .dataframe tbody tr th {\n",
              "        vertical-align: top;\n",
              "    }\n",
              "\n",
              "    .dataframe thead th {\n",
              "        text-align: right;\n",
              "    }\n",
              "</style>\n",
              "<table border=\"1\" class=\"dataframe\">\n",
              "  <thead>\n",
              "    <tr style=\"text-align: right;\">\n",
              "      <th></th>\n",
              "      <th>Product Name</th>\n",
              "      <th>Long Description</th>\n",
              "      <th>Short Description</th>\n",
              "      <th>Supplier Source</th>\n",
              "      <th>Variation Name1</th>\n",
              "      <th>Option for Variation1</th>\n",
              "      <th>Variation Name2</th>\n",
              "      <th>Option for Variation2</th>\n",
              "      <th>Variation Name3</th>\n",
              "      <th>Option for Variation3</th>\n",
              "      <th>...</th>\n",
              "      <th>Item image9</th>\n",
              "      <th>Variant Image1</th>\n",
              "      <th>Variant Image2</th>\n",
              "      <th>Variant Image3</th>\n",
              "      <th>Variant Image4</th>\n",
              "      <th>Variant Image5</th>\n",
              "      <th>Variant Image6</th>\n",
              "      <th>Variant Image7</th>\n",
              "      <th>Variant Image8</th>\n",
              "      <th>Variant Image9</th>\n",
              "    </tr>\n",
              "  </thead>\n",
              "  <tbody>\n",
              "    <tr>\n",
              "      <th>41</th>\n",
              "      <td>2022新款韩版时尚单肩手提大包简约百搭大容量托特包高级感包包女</td>\n",
              "      <td>&lt;div id=\"offer-template-0\"&gt;&lt;/div&gt;&lt;div&gt; &lt;/div&gt;\\...</td>\n",
              "      <td>箱包大小:中\\n里料质地:涤纶\\n图案:纯色\\n货源类别:现货\\n颜色:棋盘白色/棋盘黑色/...</td>\n",
              "      <td>https://detail.1688.com/offer/675907506764.htm...</td>\n",
              "      <td>颜色</td>\n",
              "      <td>石头纹黑色</td>\n",
              "      <td>NaN</td>\n",
              "      <td>NaN</td>\n",
              "      <td>NaN</td>\n",
              "      <td>NaN</td>\n",
              "      <td>...</td>\n",
              "      <td>https://cbu01.alicdn.com/img/ibank/O1CN01ZVBo7...</td>\n",
              "      <td>https://cbu01.alicdn.com/img/ibank/O1CN01m025x...</td>\n",
              "      <td>NaN</td>\n",
              "      <td>NaN</td>\n",
              "      <td>NaN</td>\n",
              "      <td>NaN</td>\n",
              "      <td>NaN</td>\n",
              "      <td>NaN</td>\n",
              "      <td>NaN</td>\n",
              "      <td>NaN</td>\n",
              "    </tr>\n",
              "  </tbody>\n",
              "</table>\n",
              "<p>1 rows × 37 columns</p>\n",
              "</div>\n",
              "      <button class=\"colab-df-convert\" onclick=\"convertToInteractive('df-b8b9f159-1239-47e3-af14-cce384d88f81')\"\n",
              "              title=\"Convert this dataframe to an interactive table.\"\n",
              "              style=\"display:none;\">\n",
              "        \n",
              "  <svg xmlns=\"http://www.w3.org/2000/svg\" height=\"24px\"viewBox=\"0 0 24 24\"\n",
              "       width=\"24px\">\n",
              "    <path d=\"M0 0h24v24H0V0z\" fill=\"none\"/>\n",
              "    <path d=\"M18.56 5.44l.94 2.06.94-2.06 2.06-.94-2.06-.94-.94-2.06-.94 2.06-2.06.94zm-11 1L8.5 8.5l.94-2.06 2.06-.94-2.06-.94L8.5 2.5l-.94 2.06-2.06.94zm10 10l.94 2.06.94-2.06 2.06-.94-2.06-.94-.94-2.06-.94 2.06-2.06.94z\"/><path d=\"M17.41 7.96l-1.37-1.37c-.4-.4-.92-.59-1.43-.59-.52 0-1.04.2-1.43.59L10.3 9.45l-7.72 7.72c-.78.78-.78 2.05 0 2.83L4 21.41c.39.39.9.59 1.41.59.51 0 1.02-.2 1.41-.59l7.78-7.78 2.81-2.81c.8-.78.8-2.07 0-2.86zM5.41 20L4 18.59l7.72-7.72 1.47 1.35L5.41 20z\"/>\n",
              "  </svg>\n",
              "      </button>\n",
              "      \n",
              "  <style>\n",
              "    .colab-df-container {\n",
              "      display:flex;\n",
              "      flex-wrap:wrap;\n",
              "      gap: 12px;\n",
              "    }\n",
              "\n",
              "    .colab-df-convert {\n",
              "      background-color: #E8F0FE;\n",
              "      border: none;\n",
              "      border-radius: 50%;\n",
              "      cursor: pointer;\n",
              "      display: none;\n",
              "      fill: #1967D2;\n",
              "      height: 32px;\n",
              "      padding: 0 0 0 0;\n",
              "      width: 32px;\n",
              "    }\n",
              "\n",
              "    .colab-df-convert:hover {\n",
              "      background-color: #E2EBFA;\n",
              "      box-shadow: 0px 1px 2px rgba(60, 64, 67, 0.3), 0px 1px 3px 1px rgba(60, 64, 67, 0.15);\n",
              "      fill: #174EA6;\n",
              "    }\n",
              "\n",
              "    [theme=dark] .colab-df-convert {\n",
              "      background-color: #3B4455;\n",
              "      fill: #D2E3FC;\n",
              "    }\n",
              "\n",
              "    [theme=dark] .colab-df-convert:hover {\n",
              "      background-color: #434B5C;\n",
              "      box-shadow: 0px 1px 3px 1px rgba(0, 0, 0, 0.15);\n",
              "      filter: drop-shadow(0px 1px 2px rgba(0, 0, 0, 0.3));\n",
              "      fill: #FFFFFF;\n",
              "    }\n",
              "  </style>\n",
              "\n",
              "      <script>\n",
              "        const buttonEl =\n",
              "          document.querySelector('#df-b8b9f159-1239-47e3-af14-cce384d88f81 button.colab-df-convert');\n",
              "        buttonEl.style.display =\n",
              "          google.colab.kernel.accessAllowed ? 'block' : 'none';\n",
              "\n",
              "        async function convertToInteractive(key) {\n",
              "          const element = document.querySelector('#df-b8b9f159-1239-47e3-af14-cce384d88f81');\n",
              "          const dataTable =\n",
              "            await google.colab.kernel.invokeFunction('convertToInteractive',\n",
              "                                                     [key], {});\n",
              "          if (!dataTable) return;\n",
              "\n",
              "          const docLinkHtml = 'Like what you see? Visit the ' +\n",
              "            '<a target=\"_blank\" href=https://colab.research.google.com/notebooks/data_table.ipynb>data table notebook</a>'\n",
              "            + ' to learn more about interactive tables.';\n",
              "          element.innerHTML = '';\n",
              "          dataTable['output_type'] = 'display_data';\n",
              "          await google.colab.output.renderOutput(dataTable, element);\n",
              "          const docLink = document.createElement('div');\n",
              "          docLink.innerHTML = docLinkHtml;\n",
              "          element.appendChild(docLink);\n",
              "        }\n",
              "      </script>\n",
              "    </div>\n",
              "  </div>\n",
              "  "
            ]
          },
          "metadata": {},
          "execution_count": 8
        }
      ]
    },
    {
      "cell_type": "code",
      "source": [
        "def compare_prices(file1, file2, product_name):\n",
        "    # Read the Excel files into pandas DataFrames\n",
        "    df = pd.read_excel('/content/Price data.xlsx')\n",
        "    df2 = pd.read_excel('/content/Price data 2.xlsx')\n",
        "\n",
        "    # Filter the rows containing the specified product name\n",
        "    filtered_df = df[df['Product Name'] == product_name]\n",
        "    filtered_df2 = df2[df2['Product Name'] == product_name]\n",
        "\n",
        "    # Get the prices from the filtered DataFrames\n",
        "    prices1 = filtered_df['Original Price'].tolist()\n",
        "    prices2 = filtered_df2['Original Price'].tolist()\n",
        "\n",
        "    # Compare the prices\n",
        "    if prices1 and prices2:\n",
        "        if prices1[0] > prices2[0]:\n",
        "            print(f\"The price of {product_name} is higher in the second table.\")\n",
        "        elif prices1[0] < prices2[0]:\n",
        "            print(f\"The price of {product_name} is lower in the second table.\")\n",
        "        else:\n",
        "            print(f\"The price of {product_name} is the same in both tables.\")\n",
        "    else:\n",
        "        print(f\"Product {product_name} not found in one or both tables.\")"
      ],
      "metadata": {
        "id": "u9DdtqNKiAWm"
      },
      "execution_count": 11,
      "outputs": []
    },
    {
      "cell_type": "code",
      "source": [
        "compare_prices(df,df2, \"2022新款韩版时尚单肩手提大包简约百搭大容量托特包高级感包包女\")"
      ],
      "metadata": {
        "colab": {
          "base_uri": "https://localhost:8080/"
        },
        "id": "9WWgdnlnoQLB",
        "outputId": "7719c626-02d6-495d-a3c9-7e2a48ae3fef"
      },
      "execution_count": 12,
      "outputs": [
        {
          "output_type": "stream",
          "name": "stderr",
          "text": [
            "/usr/local/lib/python3.10/dist-packages/openpyxl/styles/stylesheet.py:226: UserWarning: Workbook contains no default style, apply openpyxl's default\n",
            "  warn(\"Workbook contains no default style, apply openpyxl's default\")\n"
          ]
        },
        {
          "output_type": "stream",
          "name": "stdout",
          "text": [
            "The price of 2022新款韩版时尚单肩手提大包简约百搭大容量托特包高级感包包女 is lower in the second table.\n"
          ]
        }
      ]
    },
    {
      "cell_type": "code",
      "source": [
        "import requests\n",
        "from bs4 import BeautifulSoup\n",
        "import time\n",
        "\n",
        "def fiyat_kontrolu(urun):\n",
        "    url = urun[\"url\"]  # Ürünün web sitesi URL'si\n",
        "    headers = {\"User-Agent\": \"Mozilla/5.0 (Windows NT 10.0; Win64; x64) AppleWebKit/537.36 (KHTML, like Gecko) Chrome/91.0.4472.124 Safari/537.36\"}\n",
        "\n",
        "    response = requests.get(url, headers=headers)\n",
        "    if response.status_code == 200:\n",
        "        soup = BeautifulSoup(response.content, \"html.parser\")\n",
        "\n",
        "        # Web sitesine özgü bir şekilde ürün fiyatını çekmek için uygun yöntemleri kullanın\n",
        "        # BeautifulSoup'ı kullanarak HTML kodunu analiz edebilir ve gerekli veriyi bulabilirsiniz\n",
        "\n",
        "        fiyat = find_fiyat(soup)  # Ürün fiyatını bulmak için uygun bir fonksiyonu çağırın\n",
        "\n",
        "        if fiyat is not None:\n",
        "            fiyat = float(fiyat)\n",
        "            if fiyat < urun[\"fiyat\"]:\n",
        "                print(f\"{urun['ad']}: Fiyat düştü! Eski fiyat: {urun['fiyat']}, yeni fiyat: {fiyat}\")\n",
        "            elif fiyat > urun[\"fiyat\"]:\n",
        "                print(f\"{urun['ad']}: Fiyat yükseldi! Eski fiyat: {urun['fiyat']}, yeni fiyat: {fiyat}\")\n",
        "            else:\n",
        "                print(f\"{urun['ad']}: Fiyat değişmedi. Fiyat: {fiyat}\")\n",
        "        else:\n",
        "            print(f\"{urun['ad']}: Fiyat bulunamadı.\")\n",
        "\n",
        "    else:\n",
        "        print(f\"{urun['ad']}: Hata! Web sitesine erişilemedi.\")\n",
        "\n",
        "def find_fiyat(soup):\n",
        "    # BeautifulSoup kullanarak fiyatı bulmak için uygun bir yöntemi uygulayın\n",
        "    # Web sitesine ve HTML yapısına bağlı olarak farklı bir yol izlemeniz gerekebilir\n",
        "    # Örneğin, CSS seçicilerini kullanabilir veya belirli bir HTML etiketini arayabilirsiniz\n",
        "    # Bu örnekte, fiyatın \"span\" etiketi altında olduğunu ve \"class\" özniteliğine sahip olduğunu varsayıyoruz\n",
        "    fiyat_element = soup.find(\"span\", class_=\"fiyat\")\n",
        "    if fiyat_element is not None:\n",
        "        return fiyat_element.text.strip()\n",
        "    else:\n",
        "        return None"
      ],
      "metadata": {
        "id": "xB4HsuloqSxs"
      },
      "execution_count": null,
      "outputs": []
    }
  ]
}