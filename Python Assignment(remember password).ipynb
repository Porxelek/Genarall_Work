{
  "nbformat": 4,
  "nbformat_minor": 0,
  "metadata": {
    "colab": {
      "name": "Untitled7.ipynb",
      "provenance": [],
      "authorship_tag": "ABX9TyOAH0tF3p8Df+LyeT05OtJQ",
      "include_colab_link": true
    },
    "kernelspec": {
      "name": "python3",
      "display_name": "Python 3"
    },
    "language_info": {
      "name": "python"
    }
  },
  "cells": [
    {
      "cell_type": "markdown",
      "metadata": {
        "id": "view-in-github",
        "colab_type": "text"
      },
      "source": [
        "<a href=\"https://colab.research.google.com/github/Porxelek/Porxelek/blob/main/Python%20Assignment(remember%20password).ipynb\" target=\"_parent\"><img src=\"https://colab.research.google.com/assets/colab-badge.svg\" alt=\"Open In Colab\"/></a>"
      ]
    },
    {
      "cell_type": "code",
      "metadata": {
        "colab": {
          "base_uri": "https://localhost:8080/"
        },
        "id": "evqSuNv933ws",
        "outputId": "ff875bbe-4356-4021-f205-7fdebc972bad"
      },
      "source": [
        "password = \"W@12\"\n",
        "names = \"Joseph\"\n",
        "name = input (\"What's your name? :\")\n",
        "name1 = name.capitalize()\n",
        "if name1 in names :\n",
        "  name1 == names\n",
        "  print(\"Hello, Joseph! The password is : {}\".format(password))\n",
        "else :\n",
        "  print(\"Hello, {}! See you later.\".format(name))"
      ],
      "execution_count": 6,
      "outputs": [
        {
          "output_type": "stream",
          "name": "stdout",
          "text": [
            "What's your name? :joseph\n",
            "Hello, Joseph! The password is : W@12\n"
          ]
        }
      ]
    },
    {
      "cell_type": "code",
      "metadata": {
        "id": "fRSDCGuZ5ZuB"
      },
      "source": [
        ""
      ],
      "execution_count": null,
      "outputs": []
    }
  ]
}